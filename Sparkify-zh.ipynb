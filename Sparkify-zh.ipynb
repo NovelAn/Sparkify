{
 "cells": [
  {
   "cell_type": "markdown",
   "metadata": {},
   "source": [
    "# Sparkify 项目"
   ]
  },
  {
   "cell_type": "markdown",
   "metadata": {},
   "source": [
    "# 项目定义\n",
    "\n",
    "## 项目简介\n",
    "\n",
    "本项目是分析某数字音乐服务平台**Sparkify**（类似于网易云音乐和QQ音乐的音乐平台）**2016年10月1日-2016年12月1日**，用户使用该平台的数据。通过对用户行为和用户信息的分析，提取可能预测用户留存或流失的相关特征，从而建立流失用户预测模型。\n",
    "\n",
    "\n",
    "## 数据集\n",
    "为了快速分析建模，该项目使用的是完整数据集（12GB）的迷你集`medium-sparkify-event-data.json`（128MB），分析完成后，再将项目整个流程部署到Amazon云。\n",
    "\n",
    "## 数据属性\n",
    "| 变量名称 | 所属类型 | 说明 |\n",
    "| :- | :- | :- |\n",
    "| artist | 音乐信息 | 歌手名称 |\n",
    "| auth | 网页信息 | 用户进入平台的方式 |\n",
    "| firstName | 用户信息 | 用户的名 |\n",
    "| gender | 用户信息 | 用户性别：F为女，M为男 |\n",
    "| itemInSession | 网页信息 | 会话顺序 |\n",
    "| lastName | 用户信息 | 用户的姓氏 |\n",
    "| length | 音乐信息 | 音乐时长（秒） |\n",
    "| level | Event | 用户等级：free为免费用户，paid为付费用户 |\n",
    "| location | 会话信息 | 用户在会话期间所属位置 |\n",
    "| method | 网页信息 | HTTP method ,GET 或者 PUT |\n",
    "| page | 网页信息 | 用户行为类型 |\n",
    "| registration | 用户信息 | 用户注册时间 |\n",
    "| sessionId | 会话信息 | 会话编号 |\n",
    "| song | 音乐信息 | 歌曲名称 |\n",
    "| status | 网页信息 | HTTP状态编码. 2xx=Successful, 3xx=Redirection, 4xx=Client Error. |\n",
    "| ts | 网页信息 | 用户行为发生的时间 |\n",
    "| userAgent | 会话信息 | 网络环境，所属浏览器 |\n",
    "| userId | 用户信息 | 用户编码，具有唯一性 |\n",
    "\n",
    "\n",
    "## 问题定义\n",
    "\n",
    "本项目着力解决的问题是如何精准地预测哪些用户存在流失风险，从而在这些用户离开前通过一些激励方式留住用户。要解决这一问题，需要建立机器学习模型，通过***Spark***分析数据，进行特征工程，传入历史数据对模型进行训练，从而预测该用户是**流失**还是**留存**，所以本项目是一个关于二分类问题。\n",
    "\n",
    "## 评估指标\n",
    "\n",
    "考虑到流失用户约占整体用户数量22%，流失用户和留存用户在用户数量上差异过大，选择F1score，即precision和recall的调和平均数作为模型的评估指标，选择F1score作为评估指标的原因请看项目第5部分建模篇。"
   ]
  },
  {
   "cell_type": "markdown",
   "metadata": {},
   "source": [
    "# 1. 导入库并创建Spark"
   ]
  },
  {
   "cell_type": "code",
   "execution_count": 1,
   "metadata": {},
   "outputs": [],
   "source": [
    "# import Dataframe libraries\n",
    "from pyspark.sql import SparkSession\n",
    "from pyspark.sql import functions as func\n",
    "from pyspark.sql import Window\n",
    "from pyspark.sql.types import IntegerType, DateType, TimestampType\n",
    "\n",
    "import datetime\n",
    "import pandas as pd\n",
    "import numpy as np\n",
    "import matplotlib.pyplot as plt\n",
    "import seaborn as sns\n",
    "import time\n",
    "%matplotlib inline\n",
    "\n",
    "# import ml libraries\n",
    "from pyspark.ml.classification import LogisticRegression\n",
    "from pyspark.ml.classification import DecisionTreeClassifier\n",
    "from pyspark.ml.classification import RandomForestClassifier\n",
    "from pyspark.ml.classification import NaiveBayes\n",
    "\n",
    "from pyspark.ml import Pipeline\n",
    "from pyspark.ml.feature import StringIndexer, VectorAssembler, MinMaxScaler\n",
    "from pyspark.ml.evaluation import MulticlassClassificationEvaluator, BinaryClassificationEvaluator\n",
    "from pyspark.mllib.evaluation import MulticlassMetrics\n",
    "from pyspark.ml.tuning import CrossValidator, ParamGridBuilder"
   ]
  },
  {
   "cell_type": "code",
   "execution_count": 2,
   "metadata": {},
   "outputs": [],
   "source": [
    "# create a Spark session\n",
    "spark = SparkSession.builder \\\n",
    "                    .appName(\"Sparkify Project\") \\\n",
    "                    .getOrCreate()"
   ]
  },
  {
   "cell_type": "markdown",
   "metadata": {},
   "source": [
    "# 2. 评估和清洗数据\n",
    "在这个 Workspace 中，小数据集的名称是 `medium-sparkify-event-data.json`。该部分通过对数据的完整性、有效性、准确性和一致性的四个方面进行评估，评估完成后，数据的清洗以评估结果为基准进行操作。"
   ]
  },
  {
   "cell_type": "markdown",
   "metadata": {},
   "source": [
    "## 2.1 数据评估"
   ]
  },
  {
   "cell_type": "code",
   "execution_count": 3,
   "metadata": {},
   "outputs": [],
   "source": [
    "df = spark.read.json(\".\\medium-sparkify-event-data.json\")"
   ]
  },
  {
   "cell_type": "code",
   "execution_count": 4,
   "metadata": {
    "scrolled": false
   },
   "outputs": [
    {
     "data": {
      "text/html": [
       "<div>\n",
       "<style scoped>\n",
       "    .dataframe tbody tr th:only-of-type {\n",
       "        vertical-align: middle;\n",
       "    }\n",
       "\n",
       "    .dataframe tbody tr th {\n",
       "        vertical-align: top;\n",
       "    }\n",
       "\n",
       "    .dataframe thead th {\n",
       "        text-align: right;\n",
       "    }\n",
       "</style>\n",
       "<table border=\"1\" class=\"dataframe\">\n",
       "  <thead>\n",
       "    <tr style=\"text-align: right;\">\n",
       "      <th></th>\n",
       "      <th>artist</th>\n",
       "      <th>auth</th>\n",
       "      <th>firstName</th>\n",
       "      <th>gender</th>\n",
       "      <th>itemInSession</th>\n",
       "      <th>lastName</th>\n",
       "      <th>length</th>\n",
       "      <th>level</th>\n",
       "      <th>location</th>\n",
       "      <th>method</th>\n",
       "      <th>page</th>\n",
       "      <th>registration</th>\n",
       "      <th>sessionId</th>\n",
       "      <th>song</th>\n",
       "      <th>status</th>\n",
       "      <th>ts</th>\n",
       "      <th>userAgent</th>\n",
       "      <th>userId</th>\n",
       "    </tr>\n",
       "  </thead>\n",
       "  <tbody>\n",
       "    <tr>\n",
       "      <td>0</td>\n",
       "      <td>Martin Orford</td>\n",
       "      <td>Logged In</td>\n",
       "      <td>Joseph</td>\n",
       "      <td>M</td>\n",
       "      <td>20</td>\n",
       "      <td>Morales</td>\n",
       "      <td>597.55057</td>\n",
       "      <td>free</td>\n",
       "      <td>Corpus Christi, TX</td>\n",
       "      <td>PUT</td>\n",
       "      <td>NextSong</td>\n",
       "      <td>1532063507000</td>\n",
       "      <td>292</td>\n",
       "      <td>Grand Designs</td>\n",
       "      <td>200</td>\n",
       "      <td>1538352011000</td>\n",
       "      <td>\"Mozilla/5.0 (Macintosh; Intel Mac OS X 10_9_4...</td>\n",
       "      <td>293</td>\n",
       "    </tr>\n",
       "    <tr>\n",
       "      <td>1</td>\n",
       "      <td>John Brown's Body</td>\n",
       "      <td>Logged In</td>\n",
       "      <td>Sawyer</td>\n",
       "      <td>M</td>\n",
       "      <td>74</td>\n",
       "      <td>Larson</td>\n",
       "      <td>380.21179</td>\n",
       "      <td>free</td>\n",
       "      <td>Houston-The Woodlands-Sugar Land, TX</td>\n",
       "      <td>PUT</td>\n",
       "      <td>NextSong</td>\n",
       "      <td>1538069638000</td>\n",
       "      <td>97</td>\n",
       "      <td>Bulls</td>\n",
       "      <td>200</td>\n",
       "      <td>1538352025000</td>\n",
       "      <td>\"Mozilla/5.0 (Macintosh; Intel Mac OS X 10_9_4...</td>\n",
       "      <td>98</td>\n",
       "    </tr>\n",
       "    <tr>\n",
       "      <td>2</td>\n",
       "      <td>Afroman</td>\n",
       "      <td>Logged In</td>\n",
       "      <td>Maverick</td>\n",
       "      <td>M</td>\n",
       "      <td>184</td>\n",
       "      <td>Santiago</td>\n",
       "      <td>202.37016</td>\n",
       "      <td>paid</td>\n",
       "      <td>Orlando-Kissimmee-Sanford, FL</td>\n",
       "      <td>PUT</td>\n",
       "      <td>NextSong</td>\n",
       "      <td>1535953455000</td>\n",
       "      <td>178</td>\n",
       "      <td>Because I Got High</td>\n",
       "      <td>200</td>\n",
       "      <td>1538352118000</td>\n",
       "      <td>\"Mozilla/5.0 (Macintosh; Intel Mac OS X 10_9_4...</td>\n",
       "      <td>179</td>\n",
       "    </tr>\n",
       "    <tr>\n",
       "      <td>3</td>\n",
       "      <td>None</td>\n",
       "      <td>Logged In</td>\n",
       "      <td>Maverick</td>\n",
       "      <td>M</td>\n",
       "      <td>185</td>\n",
       "      <td>Santiago</td>\n",
       "      <td>NaN</td>\n",
       "      <td>paid</td>\n",
       "      <td>Orlando-Kissimmee-Sanford, FL</td>\n",
       "      <td>PUT</td>\n",
       "      <td>Logout</td>\n",
       "      <td>1535953455000</td>\n",
       "      <td>178</td>\n",
       "      <td>None</td>\n",
       "      <td>307</td>\n",
       "      <td>1538352119000</td>\n",
       "      <td>\"Mozilla/5.0 (Macintosh; Intel Mac OS X 10_9_4...</td>\n",
       "      <td>179</td>\n",
       "    </tr>\n",
       "    <tr>\n",
       "      <td>4</td>\n",
       "      <td>Lily Allen</td>\n",
       "      <td>Logged In</td>\n",
       "      <td>Gianna</td>\n",
       "      <td>F</td>\n",
       "      <td>22</td>\n",
       "      <td>Campos</td>\n",
       "      <td>194.53342</td>\n",
       "      <td>paid</td>\n",
       "      <td>Mobile, AL</td>\n",
       "      <td>PUT</td>\n",
       "      <td>NextSong</td>\n",
       "      <td>1535931018000</td>\n",
       "      <td>245</td>\n",
       "      <td>Smile (Radio Edit)</td>\n",
       "      <td>200</td>\n",
       "      <td>1538352124000</td>\n",
       "      <td>Mozilla/5.0 (Windows NT 6.1; WOW64; rv:31.0) G...</td>\n",
       "      <td>246</td>\n",
       "    </tr>\n",
       "  </tbody>\n",
       "</table>\n",
       "</div>"
      ],
      "text/plain": [
       "              artist       auth firstName gender  itemInSession  lastName  \\\n",
       "0      Martin Orford  Logged In    Joseph      M             20   Morales   \n",
       "1  John Brown's Body  Logged In    Sawyer      M             74    Larson   \n",
       "2            Afroman  Logged In  Maverick      M            184  Santiago   \n",
       "3               None  Logged In  Maverick      M            185  Santiago   \n",
       "4         Lily Allen  Logged In    Gianna      F             22    Campos   \n",
       "\n",
       "      length level                              location method      page  \\\n",
       "0  597.55057  free                    Corpus Christi, TX    PUT  NextSong   \n",
       "1  380.21179  free  Houston-The Woodlands-Sugar Land, TX    PUT  NextSong   \n",
       "2  202.37016  paid         Orlando-Kissimmee-Sanford, FL    PUT  NextSong   \n",
       "3        NaN  paid         Orlando-Kissimmee-Sanford, FL    PUT    Logout   \n",
       "4  194.53342  paid                            Mobile, AL    PUT  NextSong   \n",
       "\n",
       "    registration  sessionId                song  status             ts  \\\n",
       "0  1532063507000        292       Grand Designs     200  1538352011000   \n",
       "1  1538069638000         97               Bulls     200  1538352025000   \n",
       "2  1535953455000        178  Because I Got High     200  1538352118000   \n",
       "3  1535953455000        178                None     307  1538352119000   \n",
       "4  1535931018000        245  Smile (Radio Edit)     200  1538352124000   \n",
       "\n",
       "                                           userAgent userId  \n",
       "0  \"Mozilla/5.0 (Macintosh; Intel Mac OS X 10_9_4...    293  \n",
       "1  \"Mozilla/5.0 (Macintosh; Intel Mac OS X 10_9_4...     98  \n",
       "2  \"Mozilla/5.0 (Macintosh; Intel Mac OS X 10_9_4...    179  \n",
       "3  \"Mozilla/5.0 (Macintosh; Intel Mac OS X 10_9_4...    179  \n",
       "4  Mozilla/5.0 (Windows NT 6.1; WOW64; rv:31.0) G...    246  "
      ]
     },
     "execution_count": 4,
     "metadata": {},
     "output_type": "execute_result"
    }
   ],
   "source": [
    "# 观察数据并检查数据类型\n",
    "pd.DataFrame(data=df.head(n=5),columns=df.columns)"
   ]
  },
  {
   "cell_type": "code",
   "execution_count": 9,
   "metadata": {
    "scrolled": false
   },
   "outputs": [
    {
     "name": "stdout",
     "output_type": "stream",
     "text": [
      "root\n",
      " |-- artist: string (nullable = true)\n",
      " |-- auth: string (nullable = true)\n",
      " |-- firstName: string (nullable = true)\n",
      " |-- gender: string (nullable = true)\n",
      " |-- itemInSession: long (nullable = true)\n",
      " |-- lastName: string (nullable = true)\n",
      " |-- length: double (nullable = true)\n",
      " |-- level: string (nullable = true)\n",
      " |-- location: string (nullable = true)\n",
      " |-- method: string (nullable = true)\n",
      " |-- page: string (nullable = true)\n",
      " |-- registration: long (nullable = true)\n",
      " |-- sessionId: long (nullable = true)\n",
      " |-- song: string (nullable = true)\n",
      " |-- status: long (nullable = true)\n",
      " |-- ts: long (nullable = true)\n",
      " |-- userAgent: string (nullable = true)\n",
      " |-- userId: string (nullable = true)\n",
      "\n"
     ]
    }
   ],
   "source": [
    "df.printSchema()"
   ]
  },
  {
   "cell_type": "markdown",
   "metadata": {},
   "source": [
    "- registration和ts在源数据中为long，实际应为日期时间类型"
   ]
  },
  {
   "cell_type": "code",
   "execution_count": 10,
   "metadata": {
    "scrolled": false
   },
   "outputs": [],
   "source": [
    "# 检查各个特征的描述性数值\n",
    "def build_feat_info(df):\n",
    "    return pd.DataFrame(data={\n",
    "        \"value_count\":[df[x].count() for x in df.columns],\n",
    "        \"value_distinct\":[df[x].unique().shape[0] for x in df.columns],\n",
    "        \"num_nans\":[df[x].isnull().sum() for x in df.columns],\n",
    "        \"percent_nans\":[round((df[x].isnull().sum())/(df[x].shape[0]),3) for x in df.columns]  \n",
    "    },index=df.columns)\n",
    "\n",
    "data_df = df.toPandas()\n",
    "feat_info = build_feat_info(data_df)"
   ]
  },
  {
   "cell_type": "code",
   "execution_count": 14,
   "metadata": {},
   "outputs": [
    {
     "data": {
      "text/html": [
       "<div>\n",
       "<style scoped>\n",
       "    .dataframe tbody tr th:only-of-type {\n",
       "        vertical-align: middle;\n",
       "    }\n",
       "\n",
       "    .dataframe tbody tr th {\n",
       "        vertical-align: top;\n",
       "    }\n",
       "\n",
       "    .dataframe thead th {\n",
       "        text-align: right;\n",
       "    }\n",
       "</style>\n",
       "<table border=\"1\" class=\"dataframe\">\n",
       "  <thead>\n",
       "    <tr style=\"text-align: right;\">\n",
       "      <th></th>\n",
       "      <th>value_count</th>\n",
       "      <th>value_distinct</th>\n",
       "      <th>num_nans</th>\n",
       "      <th>percent_nans</th>\n",
       "    </tr>\n",
       "  </thead>\n",
       "  <tbody>\n",
       "    <tr>\n",
       "      <td>artist</td>\n",
       "      <td>432877</td>\n",
       "      <td>21248</td>\n",
       "      <td>110828</td>\n",
       "      <td>0.204</td>\n",
       "    </tr>\n",
       "    <tr>\n",
       "      <td>length</td>\n",
       "      <td>432877</td>\n",
       "      <td>16680</td>\n",
       "      <td>110828</td>\n",
       "      <td>0.204</td>\n",
       "    </tr>\n",
       "    <tr>\n",
       "      <td>song</td>\n",
       "      <td>432877</td>\n",
       "      <td>80293</td>\n",
       "      <td>110828</td>\n",
       "      <td>0.204</td>\n",
       "    </tr>\n",
       "    <tr>\n",
       "      <td>firstName</td>\n",
       "      <td>528005</td>\n",
       "      <td>346</td>\n",
       "      <td>15700</td>\n",
       "      <td>0.029</td>\n",
       "    </tr>\n",
       "    <tr>\n",
       "      <td>gender</td>\n",
       "      <td>528005</td>\n",
       "      <td>3</td>\n",
       "      <td>15700</td>\n",
       "      <td>0.029</td>\n",
       "    </tr>\n",
       "    <tr>\n",
       "      <td>userAgent</td>\n",
       "      <td>528005</td>\n",
       "      <td>72</td>\n",
       "      <td>15700</td>\n",
       "      <td>0.029</td>\n",
       "    </tr>\n",
       "    <tr>\n",
       "      <td>lastName</td>\n",
       "      <td>528005</td>\n",
       "      <td>276</td>\n",
       "      <td>15700</td>\n",
       "      <td>0.029</td>\n",
       "    </tr>\n",
       "    <tr>\n",
       "      <td>location</td>\n",
       "      <td>528005</td>\n",
       "      <td>193</td>\n",
       "      <td>15700</td>\n",
       "      <td>0.029</td>\n",
       "    </tr>\n",
       "    <tr>\n",
       "      <td>registration</td>\n",
       "      <td>528005</td>\n",
       "      <td>449</td>\n",
       "      <td>15700</td>\n",
       "      <td>0.029</td>\n",
       "    </tr>\n",
       "    <tr>\n",
       "      <td>sessionId</td>\n",
       "      <td>543705</td>\n",
       "      <td>4590</td>\n",
       "      <td>0</td>\n",
       "      <td>0.000</td>\n",
       "    </tr>\n",
       "    <tr>\n",
       "      <td>ts</td>\n",
       "      <td>543705</td>\n",
       "      <td>513108</td>\n",
       "      <td>0</td>\n",
       "      <td>0.000</td>\n",
       "    </tr>\n",
       "    <tr>\n",
       "      <td>status</td>\n",
       "      <td>543705</td>\n",
       "      <td>3</td>\n",
       "      <td>0</td>\n",
       "      <td>0.000</td>\n",
       "    </tr>\n",
       "    <tr>\n",
       "      <td>method</td>\n",
       "      <td>543705</td>\n",
       "      <td>2</td>\n",
       "      <td>0</td>\n",
       "      <td>0.000</td>\n",
       "    </tr>\n",
       "    <tr>\n",
       "      <td>page</td>\n",
       "      <td>543705</td>\n",
       "      <td>22</td>\n",
       "      <td>0</td>\n",
       "      <td>0.000</td>\n",
       "    </tr>\n",
       "    <tr>\n",
       "      <td>auth</td>\n",
       "      <td>543705</td>\n",
       "      <td>4</td>\n",
       "      <td>0</td>\n",
       "      <td>0.000</td>\n",
       "    </tr>\n",
       "    <tr>\n",
       "      <td>level</td>\n",
       "      <td>543705</td>\n",
       "      <td>2</td>\n",
       "      <td>0</td>\n",
       "      <td>0.000</td>\n",
       "    </tr>\n",
       "    <tr>\n",
       "      <td>itemInSession</td>\n",
       "      <td>543705</td>\n",
       "      <td>1006</td>\n",
       "      <td>0</td>\n",
       "      <td>0.000</td>\n",
       "    </tr>\n",
       "    <tr>\n",
       "      <td>userId</td>\n",
       "      <td>543705</td>\n",
       "      <td>449</td>\n",
       "      <td>0</td>\n",
       "      <td>0.000</td>\n",
       "    </tr>\n",
       "  </tbody>\n",
       "</table>\n",
       "</div>"
      ],
      "text/plain": [
       "               value_count  value_distinct  num_nans  percent_nans\n",
       "artist              432877           21248    110828         0.204\n",
       "length              432877           16680    110828         0.204\n",
       "song                432877           80293    110828         0.204\n",
       "firstName           528005             346     15700         0.029\n",
       "gender              528005               3     15700         0.029\n",
       "userAgent           528005              72     15700         0.029\n",
       "lastName            528005             276     15700         0.029\n",
       "location            528005             193     15700         0.029\n",
       "registration        528005             449     15700         0.029\n",
       "sessionId           543705            4590         0         0.000\n",
       "ts                  543705          513108         0         0.000\n",
       "status              543705               3         0         0.000\n",
       "method              543705               2         0         0.000\n",
       "page                543705              22         0         0.000\n",
       "auth                543705               4         0         0.000\n",
       "level               543705               2         0         0.000\n",
       "itemInSession       543705            1006         0         0.000\n",
       "userId              543705             449         0         0.000"
      ]
     },
     "execution_count": 14,
     "metadata": {},
     "output_type": "execute_result"
    }
   ],
   "source": [
    "feat_info.sort_values('percent_nans', axis=0, ascending=False)"
   ]
  },
  {
   "cell_type": "markdown",
   "metadata": {},
   "source": [
    "- ***artist/length/song***存在相同数量的缺失值，均存在***20.4%***的缺失值，该三列变量属于歌曲信息相关的变量；\n",
    "- ***firstName/gender/lastName/location/registration/userAgent***存在相同数量的缺失值，均存在***2.9%***的缺失值，这些变量属于用户个人信息相关的变量；\n",
    "- userId虽然从计数上看似没有缺失，但是其最小值是空字符串，如下分析"
   ]
  },
  {
   "cell_type": "code",
   "execution_count": 9,
   "metadata": {
    "scrolled": false
   },
   "outputs": [],
   "source": [
    "# 观察歌曲相关信息缺失的数据，这里选择歌手变量\n",
    "user_info_null = df.filter(func.isnull(df.artist))"
   ]
  },
  {
   "cell_type": "code",
   "execution_count": 10,
   "metadata": {},
   "outputs": [
    {
     "name": "stdout",
     "output_type": "stream",
     "text": [
      "+--------+\n",
      "|    page|\n",
      "+--------+\n",
      "|NextSong|\n",
      "+--------+\n",
      "\n"
     ]
    }
   ],
   "source": [
    "page_all = df.select(\"page\").dropDuplicates()\n",
    "page_all.exceptAll(user_info_null.select(\"page\").dropDuplicates()).show()"
   ]
  },
  {
   "cell_type": "code",
   "execution_count": 11,
   "metadata": {},
   "outputs": [
    {
     "data": {
      "text/plain": [
       "432877"
      ]
     },
     "execution_count": 11,
     "metadata": {},
     "output_type": "execute_result"
    }
   ],
   "source": [
    "df.filter(\"page == 'NextSong'\").count()"
   ]
  },
  {
   "cell_type": "markdown",
   "metadata": {},
   "source": [
    "以上探索可以看出，歌曲信息缺失实际是用户当下不在音乐播放页面，所以没有产生歌曲信息相关的数据，可以保留该部分数据"
   ]
  },
  {
   "cell_type": "code",
   "execution_count": 12,
   "metadata": {},
   "outputs": [
    {
     "data": {
      "text/plain": [
       "[Row(auth='Logged Out', userId=''), Row(auth='Guest', userId='')]"
      ]
     },
     "execution_count": 12,
     "metadata": {},
     "output_type": "execute_result"
    }
   ],
   "source": [
    "# 观察用户信息缺失的数据\n",
    "df.select([\"auth\",\"userId\"]).filter(func.isnull(df.gender)).dropDuplicates().collect()"
   ]
  },
  {
   "cell_type": "code",
   "execution_count": 13,
   "metadata": {
    "scrolled": true
   },
   "outputs": [
    {
     "name": "stdout",
     "output_type": "stream",
     "text": [
      "+-------------------+\n",
      "|               page|\n",
      "+-------------------+\n",
      "|               Home|\n",
      "|              About|\n",
      "|Submit Registration|\n",
      "|              Login|\n",
      "|           Register|\n",
      "|               Help|\n",
      "|              Error|\n",
      "+-------------------+\n",
      "\n"
     ]
    }
   ],
   "source": [
    "(df.select(\"page\").filter(df.userId == \"\").dropDuplicates()).show()"
   ]
  },
  {
   "cell_type": "markdown",
   "metadata": {},
   "source": [
    "用户信息缺失的部分，实际userId为空字符串，userId为空的用户行为如上表所示，只被授权进入主页、关于页等页面，没有权限享有播放音乐、添加好友、设置和升降级等服务，可以推断出用户信息为空的数据记录为未注册用户，但是该项目的目的是预测注册用户中哪些用户存在流失风险，所以未注册的用户在本项目中为无效数据，应删除"
   ]
  },
  {
   "cell_type": "markdown",
   "metadata": {},
   "source": [
    "**数据评估小结：**\n",
    "- 修正ts和registration的数据类型 \n",
    "- 保留歌曲信息缺失部分\n",
    "- 删除用户信息缺失部分"
   ]
  },
  {
   "cell_type": "markdown",
   "metadata": {},
   "source": [
    "## 2.2 数据清理\n",
    "\n",
    "根据以上数据评估的结论，对数据进行清洗"
   ]
  },
  {
   "cell_type": "markdown",
   "metadata": {},
   "source": [
    "### 2.2.1 数据清洗"
   ]
  },
  {
   "cell_type": "code",
   "execution_count": 15,
   "metadata": {},
   "outputs": [],
   "source": [
    "# 去重\n",
    "df = df.dropDuplicates()"
   ]
  },
  {
   "cell_type": "code",
   "execution_count": 16,
   "metadata": {},
   "outputs": [],
   "source": [
    "# 删除userId为空字符串的数据记录\n",
    "valid_user_log = df.filter(df.userId != \"\")"
   ]
  },
  {
   "cell_type": "code",
   "execution_count": 17,
   "metadata": {},
   "outputs": [
    {
     "data": {
      "text/html": [
       "<div>\n",
       "<style scoped>\n",
       "    .dataframe tbody tr th:only-of-type {\n",
       "        vertical-align: middle;\n",
       "    }\n",
       "\n",
       "    .dataframe tbody tr th {\n",
       "        vertical-align: top;\n",
       "    }\n",
       "\n",
       "    .dataframe thead th {\n",
       "        text-align: right;\n",
       "    }\n",
       "</style>\n",
       "<table border=\"1\" class=\"dataframe\">\n",
       "  <thead>\n",
       "    <tr style=\"text-align: right;\">\n",
       "      <th></th>\n",
       "      <th>value_count</th>\n",
       "      <th>value_distinct</th>\n",
       "      <th>num_nans</th>\n",
       "      <th>percent_nans</th>\n",
       "    </tr>\n",
       "  </thead>\n",
       "  <tbody>\n",
       "    <tr>\n",
       "      <td>artist</td>\n",
       "      <td>432877</td>\n",
       "      <td>21248</td>\n",
       "      <td>95128</td>\n",
       "      <td>0.18</td>\n",
       "    </tr>\n",
       "    <tr>\n",
       "      <td>song</td>\n",
       "      <td>432877</td>\n",
       "      <td>80293</td>\n",
       "      <td>95128</td>\n",
       "      <td>0.18</td>\n",
       "    </tr>\n",
       "    <tr>\n",
       "      <td>length</td>\n",
       "      <td>432877</td>\n",
       "      <td>16680</td>\n",
       "      <td>95128</td>\n",
       "      <td>0.18</td>\n",
       "    </tr>\n",
       "    <tr>\n",
       "      <td>page</td>\n",
       "      <td>528005</td>\n",
       "      <td>19</td>\n",
       "      <td>0</td>\n",
       "      <td>0.00</td>\n",
       "    </tr>\n",
       "    <tr>\n",
       "      <td>userAgent</td>\n",
       "      <td>528005</td>\n",
       "      <td>71</td>\n",
       "      <td>0</td>\n",
       "      <td>0.00</td>\n",
       "    </tr>\n",
       "    <tr>\n",
       "      <td>ts</td>\n",
       "      <td>528005</td>\n",
       "      <td>499351</td>\n",
       "      <td>0</td>\n",
       "      <td>0.00</td>\n",
       "    </tr>\n",
       "    <tr>\n",
       "      <td>status</td>\n",
       "      <td>528005</td>\n",
       "      <td>3</td>\n",
       "      <td>0</td>\n",
       "      <td>0.00</td>\n",
       "    </tr>\n",
       "    <tr>\n",
       "      <td>sessionId</td>\n",
       "      <td>528005</td>\n",
       "      <td>4470</td>\n",
       "      <td>0</td>\n",
       "      <td>0.00</td>\n",
       "    </tr>\n",
       "    <tr>\n",
       "      <td>registration</td>\n",
       "      <td>528005</td>\n",
       "      <td>448</td>\n",
       "      <td>0</td>\n",
       "      <td>0.00</td>\n",
       "    </tr>\n",
       "    <tr>\n",
       "      <td>method</td>\n",
       "      <td>528005</td>\n",
       "      <td>2</td>\n",
       "      <td>0</td>\n",
       "      <td>0.00</td>\n",
       "    </tr>\n",
       "    <tr>\n",
       "      <td>auth</td>\n",
       "      <td>528005</td>\n",
       "      <td>2</td>\n",
       "      <td>0</td>\n",
       "      <td>0.00</td>\n",
       "    </tr>\n",
       "    <tr>\n",
       "      <td>location</td>\n",
       "      <td>528005</td>\n",
       "      <td>192</td>\n",
       "      <td>0</td>\n",
       "      <td>0.00</td>\n",
       "    </tr>\n",
       "    <tr>\n",
       "      <td>level</td>\n",
       "      <td>528005</td>\n",
       "      <td>2</td>\n",
       "      <td>0</td>\n",
       "      <td>0.00</td>\n",
       "    </tr>\n",
       "    <tr>\n",
       "      <td>lastName</td>\n",
       "      <td>528005</td>\n",
       "      <td>275</td>\n",
       "      <td>0</td>\n",
       "      <td>0.00</td>\n",
       "    </tr>\n",
       "    <tr>\n",
       "      <td>itemInSession</td>\n",
       "      <td>528005</td>\n",
       "      <td>1006</td>\n",
       "      <td>0</td>\n",
       "      <td>0.00</td>\n",
       "    </tr>\n",
       "    <tr>\n",
       "      <td>gender</td>\n",
       "      <td>528005</td>\n",
       "      <td>2</td>\n",
       "      <td>0</td>\n",
       "      <td>0.00</td>\n",
       "    </tr>\n",
       "    <tr>\n",
       "      <td>firstName</td>\n",
       "      <td>528005</td>\n",
       "      <td>345</td>\n",
       "      <td>0</td>\n",
       "      <td>0.00</td>\n",
       "    </tr>\n",
       "    <tr>\n",
       "      <td>userId</td>\n",
       "      <td>528005</td>\n",
       "      <td>448</td>\n",
       "      <td>0</td>\n",
       "      <td>0.00</td>\n",
       "    </tr>\n",
       "  </tbody>\n",
       "</table>\n",
       "</div>"
      ],
      "text/plain": [
       "               value_count  value_distinct  num_nans  percent_nans\n",
       "artist              432877           21248     95128          0.18\n",
       "song                432877           80293     95128          0.18\n",
       "length              432877           16680     95128          0.18\n",
       "page                528005              19         0          0.00\n",
       "userAgent           528005              71         0          0.00\n",
       "ts                  528005          499351         0          0.00\n",
       "status              528005               3         0          0.00\n",
       "sessionId           528005            4470         0          0.00\n",
       "registration        528005             448         0          0.00\n",
       "method              528005               2         0          0.00\n",
       "auth                528005               2         0          0.00\n",
       "location            528005             192         0          0.00\n",
       "level               528005               2         0          0.00\n",
       "lastName            528005             275         0          0.00\n",
       "itemInSession       528005            1006         0          0.00\n",
       "gender              528005               2         0          0.00\n",
       "firstName           528005             345         0          0.00\n",
       "userId              528005             448         0          0.00"
      ]
     },
     "execution_count": 17,
     "metadata": {},
     "output_type": "execute_result"
    }
   ],
   "source": [
    "valid_user_log_df = valid_user_log.toPandas()\n",
    "feat_info_valid_user_log = build_feat_info(valid_user_log_df)\n",
    "feat_info_valid_user_log.sort_values('percent_nans', axis=0, ascending=False)"
   ]
  },
  {
   "cell_type": "code",
   "execution_count": 16,
   "metadata": {
    "scrolled": true
   },
   "outputs": [],
   "source": [
    "# 修改ts和reg变量的数类型为日期时间类型\n",
    "time_change = func.udf(lambda x: datetime.datetime.fromtimestamp(x/1000.0), returnType=TimestampType())\n",
    "valid_user_log = valid_user_log.withColumn(\"use_dt\",time_change(valid_user_log.ts))\n",
    "valid_user_log = valid_user_log.withColumn(\"reg_dt\",time_change(valid_user_log.registration))"
   ]
  },
  {
   "cell_type": "code",
   "execution_count": 17,
   "metadata": {
    "scrolled": false
   },
   "outputs": [
    {
     "name": "stdout",
     "output_type": "stream",
     "text": [
      "+-------------------+-------------------+\n",
      "|      start_us_date|        end_us_date|\n",
      "+-------------------+-------------------+\n",
      "|2018-10-01 08:00:11|2018-12-01 08:01:06|\n",
      "+-------------------+-------------------+\n",
      "\n"
     ]
    }
   ],
   "source": [
    "valid_user_log.select(func.min(\"use_dt\").alias(\"start_us_date\"),func.max(\"use_dt\").alias(\"end_us_date\")).show()"
   ]
  },
  {
   "cell_type": "code",
   "execution_count": 18,
   "metadata": {
    "scrolled": true
   },
   "outputs": [
    {
     "name": "stdout",
     "output_type": "stream",
     "text": [
      "+-------------------+-------------------+\n",
      "|     start_reg_date|       end_reg_date|\n",
      "+-------------------+-------------------+\n",
      "|2017-11-05 11:56:33|2018-11-24 23:37:54|\n",
      "+-------------------+-------------------+\n",
      "\n"
     ]
    }
   ],
   "source": [
    "valid_user_log.select(func.min(\"reg_dt\").alias(\"start_reg_date\"),func.max(\"reg_dt\").alias(\"end_reg_date\")).show()"
   ]
  },
  {
   "cell_type": "markdown",
   "metadata": {},
   "source": [
    "### 2.2.2 创建日期相关变量\n",
    "考虑到在后续的特征工程部分，需要分析在某个固定时间内，统计分析不同用户的特定行为次数，所以需要添加日期相关变量"
   ]
  },
  {
   "cell_type": "code",
   "execution_count": 19,
   "metadata": {},
   "outputs": [],
   "source": [
    "create_year = func.udf(lambda x: x.year, IntegerType())\n",
    "create_month = func.udf(lambda x: x.month, IntegerType())\n",
    "create_day = func.udf(lambda x: x.day, IntegerType())\n",
    "create_hour = func.udf(lambda x: x.hour, IntegerType())\n",
    "valid_user_log = valid_user_log.withColumn(\"use_year\",create_year(valid_user_log.use_dt))\n",
    "valid_user_log = valid_user_log.withColumn(\"use_month\",create_month(valid_user_log.use_dt))\n",
    "valid_user_log = valid_user_log.withColumn(\"use_day\",create_day(valid_user_log.use_dt))\n",
    "valid_user_log = valid_user_log.withColumn(\"use_hour\",create_hour(valid_user_log.use_dt))"
   ]
  },
  {
   "cell_type": "code",
   "execution_count": 20,
   "metadata": {
    "scrolled": true
   },
   "outputs": [
    {
     "name": "stdout",
     "output_type": "stream",
     "text": [
      "+--------+---------+--------+---+\n",
      "|use_year|use_month|amt_song|MAU|\n",
      "+--------+---------+--------+---+\n",
      "|    2018|       10|  213963|428|\n",
      "|    2018|       11|  215712|379|\n",
      "|    2018|       12|    3202| 59|\n",
      "+--------+---------+--------+---+\n",
      "\n"
     ]
    }
   ],
   "source": [
    "# 查看每个月的音乐播放量\n",
    "valid_user_log.filter(\"page == 'NextSong'\") \\\n",
    "                .groupby([\"use_year\",\"use_month\"]) \\\n",
    "                .agg(func.count(\"song\").alias(\"amt_song\"),func.countDistinct(\"userId\").alias(\"MAU\")) \\\n",
    "                .orderBy([\"use_year\",\"use_month\"]).show()"
   ]
  },
  {
   "cell_type": "markdown",
   "metadata": {},
   "source": [
    "- 12月播放量和活跃人数低是因为12月只统计了1天\n",
    "- 11月活跃人数虽低于10月，但是播放量高于10月"
   ]
  },
  {
   "cell_type": "markdown",
   "metadata": {},
   "source": [
    "# 3. 数据分析"
   ]
  },
  {
   "cell_type": "markdown",
   "metadata": {},
   "source": [
    "## 3.1 定义客户流失\n",
    "\n",
    "### 3.1.1 如何定义流失客户和留存客户\n",
    "需要通过用户什么样的行为定义该用户已流失，所以下面这部分将对用户行为做一些探索性分析"
   ]
  },
  {
   "cell_type": "code",
   "execution_count": 21,
   "metadata": {
    "scrolled": false
   },
   "outputs": [
    {
     "name": "stdout",
     "output_type": "stream",
     "text": [
      "+---+\n",
      "| AU|\n",
      "+---+\n",
      "|448|\n",
      "+---+\n",
      "\n"
     ]
    }
   ],
   "source": [
    "# 获取独立用户数\n",
    "valid_user_log.select(func.countDistinct(\"userId\").alias(\"AU\")).show()"
   ]
  },
  {
   "cell_type": "code",
   "execution_count": 22,
   "metadata": {},
   "outputs": [],
   "source": [
    "# 查看不同行为下的活跃数\n",
    "page_au = valid_user_log.groupby(valid_user_log.page).agg(func.countDistinct(valid_user_log.userId).alias(\"AU\"))\n",
    "page_au = page_au.withColumn(\"percent\", page_au.AU/448).orderBy(func.desc(\"percent\"))\n",
    "page_au_pd = page_au.toPandas()"
   ]
  },
  {
   "cell_type": "code",
   "execution_count": 23,
   "metadata": {},
   "outputs": [
    {
     "data": {
      "image/png": "[encoded data removed]",
      "text/plain": [
       "<Figure size 576x432 with 1 Axes>"
      ]
     },
     "metadata": {
      "needs_background": "light"
     },
     "output_type": "display_data"
    }
   ],
   "source": [
    "# 可视化不同行为下的活跃人数\n",
    "plt.rcParams.update({'figure.autolayout': True})\n",
    "fig, ax = plt.subplots(figsize=(8,6))\n",
    "ax.barh(page_au_pd[\"page\"], page_au_pd[\"percent\"])\n",
    "labels = ax.get_xticklabels()\n",
    "plt.setp(labels, rotation=45, horizontalalignment='right')\n",
    "ax.invert_yaxis()\n",
    "ax.set(xlabel='Percentage of Activiated Users', ylabel='Page',\n",
    "       xticks=[0. , 0.1, 0.2, 0.3, 0.4, 0.5, 0.6, 0.7, 0.8, 0.9, 1. ],\n",
    "       xticklabels=[0. , 0.1, 0.2, 0.3, 0.4, 0.5, 0.6, 0.7, 0.8, 0.9, 1. ],\n",
    "       title='PAU VS Page');"
   ]
  },
  {
   "cell_type": "code",
   "execution_count": 24,
   "metadata": {
    "scrolled": false
   },
   "outputs": [
    {
     "data": {
      "image/png": "[encoded data removed]",
      "text/plain": [
       "<Figure size 576x432 with 1 Axes>"
      ]
     },
     "metadata": {
      "needs_background": "light"
     },
     "output_type": "display_data"
    }
   ],
   "source": [
    "# 探索不同行为的pv总量\n",
    "page_fq = valid_user_log.groupby(valid_user_log.page).agg(func.count(valid_user_log.userId).alias(\"frequency\"))\n",
    "page_fq_pd = page_fq.toPandas()\n",
    "plt.rcParams.update({'figure.autolayout': True})\n",
    "fig, ax = plt.subplots(figsize=(8,6))\n",
    "ax.barh(page_fq_pd[\"page\"], page_fq_pd[\"frequency\"])\n",
    "labels = ax.get_xticklabels()\n",
    "plt.setp(labels, rotation=45, horizontalalignment='right')\n",
    "ax.set(xlabel='Page View', ylabel='Page',\n",
    "       title='Total View Of Page');"
   ]
  },
  {
   "cell_type": "markdown",
   "metadata": {},
   "source": [
    "- 上图可以看出100%的用户都存在播放音乐的行为，而且音乐播放是用户使用该平台的主要用途；另外90%以上的用户存在浏览主页、点赞、添加歌曲至播放列表、添加好友等行为；\n",
    "- 52%的用户升级服务成为付费用户，22%用户降级重新成为免费用户，还有22%的用户注销了帐户；"
   ]
  },
  {
   "cell_type": "code",
   "execution_count": 25,
   "metadata": {},
   "outputs": [],
   "source": [
    "# 查看付费用户和免费用户的独立用户数量\n",
    "level_last_use = valid_user_log.groupby(\"userId\",\"level\").agg(func.max(\"use_dt\").alias(\"last_use_date\")).orderBy(\"userId\",\"last_use_date\")\n",
    "level_last_use_pd = level_last_use.toPandas()"
   ]
  },
  {
   "cell_type": "code",
   "execution_count": 26,
   "metadata": {},
   "outputs": [],
   "source": [
    "final_level = level_last_use_pd.groupby(\"userId\").apply(lambda i:i.iloc[-1])\n",
    "level_usernum_dis = final_level.groupby(\"level\")[\"userId\"].count()"
   ]
  },
  {
   "cell_type": "code",
   "execution_count": 27,
   "metadata": {},
   "outputs": [
    {
     "data": {
      "text/html": [
       "<div>\n",
       "<style scoped>\n",
       "    .dataframe tbody tr th:only-of-type {\n",
       "        vertical-align: middle;\n",
       "    }\n",
       "\n",
       "    .dataframe tbody tr th {\n",
       "        vertical-align: top;\n",
       "    }\n",
       "\n",
       "    .dataframe thead th {\n",
       "        text-align: right;\n",
       "    }\n",
       "</style>\n",
       "<table border=\"1\" class=\"dataframe\">\n",
       "  <thead>\n",
       "    <tr style=\"text-align: right;\">\n",
       "      <th></th>\n",
       "      <th>level</th>\n",
       "      <th>AU</th>\n",
       "    </tr>\n",
       "  </thead>\n",
       "  <tbody>\n",
       "    <tr>\n",
       "      <td>0</td>\n",
       "      <td>free</td>\n",
       "      <td>172</td>\n",
       "    </tr>\n",
       "    <tr>\n",
       "      <td>1</td>\n",
       "      <td>paid</td>\n",
       "      <td>276</td>\n",
       "    </tr>\n",
       "  </tbody>\n",
       "</table>\n",
       "</div>"
      ],
      "text/plain": [
       "  level   AU\n",
       "0  free  172\n",
       "1  paid  276"
      ]
     },
     "execution_count": 27,
     "metadata": {},
     "output_type": "execute_result"
    }
   ],
   "source": [
    "level_usernum_dis_pd = pd.DataFrame(level_usernum_dis).reset_index().rename(columns={\"userId\":\"AU\"})\n",
    "level_usernum_dis_pd"
   ]
  },
  {
   "cell_type": "code",
   "execution_count": 28,
   "metadata": {
    "scrolled": true
   },
   "outputs": [],
   "source": [
    "# 查看付费用户和免费用户的注销人数\n",
    "level_cancel_num_pd = valid_user_log.filter(\"page == 'Cancellation Confirmation'\").groupby(\"level\").agg(func.countDistinct(\"userId\").alias(\"cancel_users\")).toPandas()"
   ]
  },
  {
   "cell_type": "code",
   "execution_count": 29,
   "metadata": {},
   "outputs": [
    {
     "data": {
      "text/html": [
       "<div>\n",
       "<style scoped>\n",
       "    .dataframe tbody tr th:only-of-type {\n",
       "        vertical-align: middle;\n",
       "    }\n",
       "\n",
       "    .dataframe tbody tr th {\n",
       "        vertical-align: top;\n",
       "    }\n",
       "\n",
       "    .dataframe thead th {\n",
       "        text-align: right;\n",
       "    }\n",
       "</style>\n",
       "<table border=\"1\" class=\"dataframe\">\n",
       "  <thead>\n",
       "    <tr style=\"text-align: right;\">\n",
       "      <th></th>\n",
       "      <th>level</th>\n",
       "      <th>cancel_users</th>\n",
       "      <th>AU</th>\n",
       "      <th>pct</th>\n",
       "    </tr>\n",
       "  </thead>\n",
       "  <tbody>\n",
       "    <tr>\n",
       "      <td>0</td>\n",
       "      <td>free</td>\n",
       "      <td>32</td>\n",
       "      <td>172</td>\n",
       "      <td>0.186047</td>\n",
       "    </tr>\n",
       "    <tr>\n",
       "      <td>1</td>\n",
       "      <td>paid</td>\n",
       "      <td>67</td>\n",
       "      <td>276</td>\n",
       "      <td>0.242754</td>\n",
       "    </tr>\n",
       "  </tbody>\n",
       "</table>\n",
       "</div>"
      ],
      "text/plain": [
       "  level  cancel_users   AU       pct\n",
       "0  free            32  172  0.186047\n",
       "1  paid            67  276  0.242754"
      ]
     },
     "execution_count": 29,
     "metadata": {},
     "output_type": "execute_result"
    }
   ],
   "source": [
    "level_cancel_df = pd.merge(level_cancel_num_pd, level_usernum_dis_pd, on='level')\n",
    "level_cancel_df[\"pct\"] = level_cancel_df[\"cancel_users\"]/level_cancel_df[\"AU\"]\n",
    "level_cancel_df"
   ]
  },
  {
   "cell_type": "markdown",
   "metadata": {},
   "source": [
    "注销行为在免费用户和付费用户都有发生，其中免费用户注销率为19%，付费用户注销率为24%，相比较而言付费用户的注销率较高"
   ]
  },
  {
   "cell_type": "code",
   "execution_count": 30,
   "metadata": {},
   "outputs": [],
   "source": [
    "# 探索付费用户和免费用户在用户行为的区别\n",
    "paid_users_behavior = valid_user_log.select(\"page\").filter(\"level == 'paid'\").dropDuplicates()\n",
    "free_users_behavior = valid_user_log.select(\"page\").filter(\"level == 'free'\").dropDuplicates()"
   ]
  },
  {
   "cell_type": "code",
   "execution_count": 31,
   "metadata": {
    "scrolled": true
   },
   "outputs": [
    {
     "name": "stdout",
     "output_type": "stream",
     "text": [
      "+----------------+\n",
      "|            page|\n",
      "+----------------+\n",
      "|Submit Downgrade|\n",
      "|       Downgrade|\n",
      "+----------------+\n",
      "\n"
     ]
    }
   ],
   "source": [
    "paid_users_behavior.exceptAll(free_users_behavior).show()"
   ]
  },
  {
   "cell_type": "markdown",
   "metadata": {},
   "source": [
    "付费用户和免费用户在页面访问的权限没有什么不同，降级服务仅发生在付费用户中"
   ]
  },
  {
   "cell_type": "markdown",
   "metadata": {},
   "source": [
    "**小结：**  \n",
    "- 通过以上分析，Cancellation Confirmation比Downgrade更能代表用户的流失，因为付费和免费客户均存在Cancellation Confirmation行为，而Downgrade仅出现在付费用户中；\n",
    "- 在本数据集中，免费用户注销率为19%，付费用户注销率为24%，相比较而言付费用户的注销率较高；\n",
    "- 用户在该平台上还是以音乐播放为主要用途，所以后续的分析可以针对流失用户和留存用户的音乐播放量方面开展详尽的分析。"
   ]
  },
  {
   "cell_type": "markdown",
   "metadata": {},
   "source": [
    "### 3.1.2 定义流失\n",
    "根据上述如何定义用户流失的分析，将创建一列 Churn 作为模型的标签，使用Cancellation Confirmation事件来定义客户流失"
   ]
  },
  {
   "cell_type": "code",
   "execution_count": 32,
   "metadata": {
    "scrolled": false
   },
   "outputs": [],
   "source": [
    "churned_users = valid_user_log.select(\"userId\").filter(\"page == 'Cancellation Confirmation'\").dropDuplicates()\n",
    "churned_user_list = churned_users.toPandas()['userId'].tolist()"
   ]
  },
  {
   "cell_type": "code",
   "execution_count": 33,
   "metadata": {},
   "outputs": [],
   "source": [
    "flag_churn = func.udf(lambda x: 1 if x in churned_user_list else 0, IntegerType())\n",
    "valid_user_log = valid_user_log.withColumn(\"Churn\", flag_churn(valid_user_log[\"userId\"]))"
   ]
  },
  {
   "cell_type": "code",
   "execution_count": 34,
   "metadata": {},
   "outputs": [
    {
     "data": {
      "text/plain": [
       "99"
      ]
     },
     "execution_count": 34,
     "metadata": {},
     "output_type": "execute_result"
    }
   ],
   "source": [
    "valid_user_log.select(\"userId\").filter(\"Churn == 1\").dropDuplicates().count()"
   ]
  },
  {
   "cell_type": "code",
   "execution_count": 35,
   "metadata": {
    "scrolled": true
   },
   "outputs": [
    {
     "data": {
      "text/plain": [
       "[Row(userId='200002', ts=1540875879000, use_dt=datetime.datetime(2018, 10, 30, 13, 4, 39), page='NextSong', Churn=1),\n",
       " Row(userId='200002', ts=1540876079000, use_dt=datetime.datetime(2018, 10, 30, 13, 7, 59), page='NextSong', Churn=1),\n",
       " Row(userId='200002', ts=1540876372000, use_dt=datetime.datetime(2018, 10, 30, 13, 12, 52), page='NextSong', Churn=1),\n",
       " Row(userId='200002', ts=1540876493000, use_dt=datetime.datetime(2018, 10, 30, 13, 14, 53), page='NextSong', Churn=1),\n",
       " Row(userId='200002', ts=1540876681000, use_dt=datetime.datetime(2018, 10, 30, 13, 18, 1), page='NextSong', Churn=1),\n",
       " Row(userId='200002', ts=1540876723000, use_dt=datetime.datetime(2018, 10, 30, 13, 18, 43), page='Add to Playlist', Churn=1),\n",
       " Row(userId='200002', ts=1540876983000, use_dt=datetime.datetime(2018, 10, 30, 13, 23, 3), page='NextSong', Churn=1),\n",
       " Row(userId='200002', ts=1540877020000, use_dt=datetime.datetime(2018, 10, 30, 13, 23, 40), page='Settings', Churn=1),\n",
       " Row(userId='200002', ts=1540877021000, use_dt=datetime.datetime(2018, 10, 30, 13, 23, 41), page='Cancel', Churn=1),\n",
       " Row(userId='200002', ts=1540877026000, use_dt=datetime.datetime(2018, 10, 30, 13, 23, 46), page='Cancellation Confirmation', Churn=1)]"
      ]
     },
     "execution_count": 35,
     "metadata": {},
     "output_type": "execute_result"
    }
   ],
   "source": [
    "# 查看一个流失用户的示例\n",
    "valid_user_log.select([\"userId\",\"ts\",\"use_dt\",\"page\",\"Churn\"]).filter(\"userId == '200002'\").orderBy(\"ts\").tail(10)"
   ]
  },
  {
   "cell_type": "markdown",
   "metadata": {},
   "source": [
    "- 流失用户数量为99，而整体独立用户数量为448，,即流失用户占整体用户数量的22%，而其他的均为留存用户，可见两类用户的数量差距悬殊；\n",
    "- 流失用户最后的行为一定是Cancellation Confirmation，最终结束该帐户在该平台上的使用。"
   ]
  },
  {
   "cell_type": "markdown",
   "metadata": {},
   "source": [
    "## 3.2 探索性分析\n",
    "对留存用户和流失用户进行探索性数据分析，观察留存用户和流失用户的行为数据分布，如观察固定时间内某个特定动作出现的次数或者播放音乐的数量。\n",
    "\n",
    "\n",
    "### 3.2.1 提问：\n",
    "\n",
    "- 不同用户的session次数以及平均每个session的音乐播放量的分布；\n",
    "- 不同用户近一月内的音乐播放总量；\n",
    "- 用户性别/所属level/是否存在downgrade行为在流失用户和留存用户的分布上；\n",
    "- 不同用户在平台使用时长上的分布；\n",
    "- 不同用户对于平台或音乐的好评度，即点赞量的分布；\n",
    "- 不同用户对于社交的需求程度，即添加好友数的分布；\n",
    "- 不同用户添加歌曲至播放列表的次数分布。"
   ]
  },
  {
   "cell_type": "markdown",
   "metadata": {},
   "source": [
    "### 3.2.2 问题探索\n",
    "#### Q1. 探索流失用户和留存用户在性别上的分布"
   ]
  },
  {
   "cell_type": "code",
   "execution_count": 36,
   "metadata": {
    "scrolled": false
   },
   "outputs": [
    {
     "name": "stdout",
     "output_type": "stream",
     "text": [
      "+------+---+------+-------+\n",
      "|gender| AU|    PV|  perPv|\n",
      "+------+---+------+-------+\n",
      "|     F|198|225393|1138.35|\n",
      "|     M|250|302612|1210.45|\n",
      "+------+---+------+-------+\n",
      "\n"
     ]
    }
   ],
   "source": [
    "# 男女的用户数量及pv分布\n",
    "gender_dis = valid_user_log.groupby(df.gender).agg(func.countDistinct(\"userId\").alias(\"AU\"), func.count(\"userId\").alias(\"PV\"))\n",
    "gender_dis = gender_dis.withColumn(\"perPv\", func.round(gender_dis.PV/gender_dis.AU, 2))\n",
    "gender_dis.show()"
   ]
  },
  {
   "cell_type": "code",
   "execution_count": 37,
   "metadata": {},
   "outputs": [],
   "source": [
    "# 流失用户和留存用户在性别上的人数分布\n",
    "gender_churn_dis = valid_user_log.groupby(\"gender\",\"Churn\").agg(func.countDistinct(\"userId\").alias(\"AU\")).orderBy(\"gender\",\"Churn\")\n",
    "gender_churn_dis_pd = gender_churn_dis.toPandas()"
   ]
  },
  {
   "cell_type": "code",
   "execution_count": 38,
   "metadata": {},
   "outputs": [],
   "source": [
    "gender_churn_df = pd.merge(gender_churn_dis_pd, pd.DataFrame(gender_churn_dis_pd.groupby(\"gender\")['AU'].sum()).reset_index(),on=\"gender\", suffixes=(\"\",\"Total\"))\n",
    "gender_churn_df[\"pct\"] = gender_churn_df[\"AU\"]/gender_churn_df[\"AUTotal\"]"
   ]
  },
  {
   "cell_type": "code",
   "execution_count": 39,
   "metadata": {
    "scrolled": false
   },
   "outputs": [
    {
     "data": {
      "image/png": "[encoded data removed]",
      "text/plain": [
       "<Figure size 288x288 with 1 Axes>"
      ]
     },
     "metadata": {
      "needs_background": "light"
     },
     "output_type": "display_data"
    }
   ],
   "source": [
    "fig,ax = plt.subplots(figsize=(4,4))\n",
    "sns.barplot(data=gender_churn_df.query(\"Churn == 1\"),x=\"gender\",y=\"pct\")\n",
    "ax.set_title(\"churn rate in gender\".title());"
   ]
  },
  {
   "cell_type": "markdown",
   "metadata": {},
   "source": [
    "本数据集中，男性用户多于女性用户，而且每一位男性用户在该平台的活跃度也略大于女性用户，相应的流失率也略低于女性用户"
   ]
  },
  {
   "cell_type": "markdown",
   "metadata": {},
   "source": [
    "#### Q2. 不同level在流失用户和留存用户的人数分布"
   ]
  },
  {
   "cell_type": "code",
   "execution_count": 40,
   "metadata": {},
   "outputs": [
    {
     "data": {
      "image/png": "[encoded data removed]",
      "text/plain": [
       "<Figure size 288x288 with 1 Axes>"
      ]
     },
     "metadata": {
      "needs_background": "light"
     },
     "output_type": "display_data"
    }
   ],
   "source": [
    "# 如上一章定义流失客户部分中的分析结果\n",
    "fig,ax = plt.subplots(figsize=(4,4))\n",
    "sns.barplot(data=level_cancel_df,x=\"level\",y=\"pct\")\n",
    "ax.set_title(\"churn rate in different level\".title());"
   ]
  },
  {
   "cell_type": "markdown",
   "metadata": {},
   "source": [
    "可视化得出，付费用户的流失率较高"
   ]
  },
  {
   "cell_type": "markdown",
   "metadata": {},
   "source": [
    "#### Q3. 存在降级行为的用户在流失用户和留存用户的分布"
   ]
  },
  {
   "cell_type": "code",
   "execution_count": 41,
   "metadata": {},
   "outputs": [],
   "source": [
    "flag_downgrade = func.udf(lambda x: 1 if x == \"Submit Downgrade\" else 0, IntegerType())\n",
    "valid_user_log = valid_user_log.withColumn(\"downgrade\", flag_downgrade(valid_user_log.page))\n",
    "churn_down_dis = valid_user_log.groupby(\"Churn\",\"userId\").agg(func.max(\"downgrade\").alias(\"isDowngrade\")).groupby(\"isDowngrade\",\"Churn\").agg(func.countDistinct(\"userId\").alias(\"AU\"))\n",
    "churn_down_dis_pd = churn_down_dis.toPandas()"
   ]
  },
  {
   "cell_type": "code",
   "execution_count": 42,
   "metadata": {},
   "outputs": [],
   "source": [
    "churn_down_df = pd.merge(churn_down_dis_pd,pd.DataFrame(churn_down_dis_pd.groupby(\"isDowngrade\")[\"AU\"].sum()).reset_index(),on='isDowngrade', suffixes=(\"\",\"Total\"))\n",
    "churn_down_df[\"pct\"] = churn_down_df[\"AU\"]/churn_down_df[\"AUTotal\"]"
   ]
  },
  {
   "cell_type": "code",
   "execution_count": 43,
   "metadata": {},
   "outputs": [
    {
     "data": {
      "image/png": "[encoded data removed]",
      "text/plain": [
       "<Figure size 288x288 with 1 Axes>"
      ]
     },
     "metadata": {
      "needs_background": "light"
     },
     "output_type": "display_data"
    }
   ],
   "source": [
    "fig,ax = plt.subplots(figsize=(4,4))\n",
    "sns.barplot(data=churn_down_df.query(\"Churn == 1\"),x=\"isDowngrade\",y=\"pct\")\n",
    "ax.set_title(\"churn rate in users who has downgrade or not\".title());"
   ]
  },
  {
   "cell_type": "markdown",
   "metadata": {},
   "source": [
    "可视化得出，没有downgrade行为用户的流失率略高于存在downgrade行为的用户"
   ]
  },
  {
   "cell_type": "markdown",
   "metadata": {},
   "source": [
    "#### Q4. 流失用户和留存用户sesson次数以及平均session音乐播放量的分布\n",
    "\n",
    "sessionId表示用于标识用户的会话编号，当用户打开浏览器浏览网页时，session会储存用户会话所需的属性及配置信息。session具有时间属性，当session在某一段时间内不活动，session就会过期，用户再登陆平台会重新再分配session，所以sessionId的独立个数在某种意义上代表用户在这段时间登陆平台的次数。"
   ]
  },
  {
   "cell_type": "code",
   "execution_count": 44,
   "metadata": {},
   "outputs": [],
   "source": [
    "# 探索不同用户的session个数，即浏览平台的次数\n",
    "sess_count_dis = valid_user_log.groupby(\"userId\").agg(func.countDistinct(\"sessionId\").alias(\"sessionCount\"), func.max(\"Churn\").alias(\"Churn\"))\n",
    "sess_count_dis_pd = sess_count_dis.toPandas()"
   ]
  },
  {
   "cell_type": "code",
   "execution_count": 45,
   "metadata": {},
   "outputs": [
    {
     "data": {
      "image/png": "[encoded data removed]",
      "text/plain": [
       "<Figure size 576x432 with 1 Axes>"
      ]
     },
     "metadata": {
      "needs_background": "light"
     },
     "output_type": "display_data"
    }
   ],
   "source": [
    "fig, ax = plt.subplots(figsize=(8,6))\n",
    "bins = np.arange(0, 90+10, 5)\n",
    "sns.distplot(sess_count_dis_pd.query(\"Churn ==1\")[\"sessionCount\"], bins=bins, kde=False, norm_hist=True, ax=ax, label=\"churn\", hist_kws={\"alpha\":0.7})\n",
    "sns.distplot(sess_count_dis_pd.query(\"Churn ==0\")[\"sessionCount\"], bins=bins, kde=False, norm_hist=True, ax=ax, label=\"retain\", hist_kws={\"alpha\":0.7})\n",
    "ax.set(xlabel=\"session count\".title(),\n",
    "      ylabel=\"Nomalized frequency\".title(),\n",
    "       xticks=np.arange(0, 90+10, 10),\n",
    "       xticklabels=np.arange(0, 90+10, 10),\n",
    "      title=\"distribution of session count\".title())\n",
    "ax.legend();"
   ]
  },
  {
   "cell_type": "code",
   "execution_count": 46,
   "metadata": {},
   "outputs": [],
   "source": [
    "# 探索不同用户平均每个session的音乐播放量\n",
    "flag_song = func.udf(lambda x: 1 if x == \"NextSong\" else 0, IntegerType())\n",
    "valid_user_log = valid_user_log.withColumn(\"songplay\", flag_song(valid_user_log.page))"
   ]
  },
  {
   "cell_type": "code",
   "execution_count": 47,
   "metadata": {},
   "outputs": [],
   "source": [
    "session_avg_songplay = valid_user_log \\\n",
    "                        .groupby(\"userId\",\"sessionId\") \\\n",
    "                        .agg(func.sum(\"songplay\").alias(\"amt_songplay\"), func.max(\"Churn\").alias(\"Churn\")) \\\n",
    "                        .groupby(\"userId\").agg(func.mean(\"amt_songplay\").alias(\"avg_songplay\"),func.max(\"Churn\").alias(\"Churn\"))\n",
    "session_avg_songplay_pd = session_avg_songplay.toPandas()"
   ]
  },
  {
   "cell_type": "code",
   "execution_count": 48,
   "metadata": {},
   "outputs": [
    {
     "data": {
      "image/png": "[encoded data removed]",
      "text/plain": [
       "<Figure size 576x432 with 1 Axes>"
      ]
     },
     "metadata": {
      "needs_background": "light"
     },
     "output_type": "display_data"
    }
   ],
   "source": [
    "fig, ax = plt.subplots(figsize=(8,6))\n",
    "churn_avg_songplay = session_avg_songplay_pd.query(\"Churn == 1\")['avg_songplay']\n",
    "retain_avg_songplay = session_avg_songplay_pd.query(\"Churn == 0\")['avg_songplay']\n",
    "\n",
    "bin_edges = np.arange(0, session_avg_songplay_pd.avg_songplay.max()+10, 10)\n",
    "sns.distplot(churn_avg_songplay, kde=True, bins=bin_edges, ax=ax, label=\"churn\", hist_kws={\"alpha\":0.7})\n",
    "sns.distplot(retain_avg_songplay, kde=True, bins=bin_edges, ax=ax, label=\"retain\", hist_kws={\"alpha\":0.7})\n",
    "ax.set(xlabel=\"Average of songplay\".title(),\n",
    "      ylabel=\"Nomalized frequency\".title(),\n",
    "       xticks=np.arange(0, session_avg_songplay_pd.avg_songplay.max()+10, 50),\n",
    "       xticklabels=np.arange(0, session_avg_songplay_pd.avg_songplay.max()+10, 50),\n",
    "      title=\"distribution of avg songplay per session\".title())\n",
    "ax.legend();"
   ]
  },
  {
   "cell_type": "markdown",
   "metadata": {},
   "source": [
    "- 从登陆平台的次数上可知，留存用户多于流失用户\n",
    "- 从平均每session的音乐播放量可知，流失用户相比留存用户分布较分散，刨除异常点，整体而言留存用户每session的音乐播放量略高；"
   ]
  },
  {
   "cell_type": "markdown",
   "metadata": {},
   "source": [
    "#### Q5. 探索流失用户和留存用户距离最近一次用户行为的前一个月的音乐播放量分布\n",
    "由于本数据集仅包含了两个月的用户记录，所以在探索最近音乐播放量数据使用近一个月的音乐播放量"
   ]
  },
  {
   "cell_type": "code",
   "execution_count": 49,
   "metadata": {},
   "outputs": [],
   "source": [
    "day_song = valid_user_log \\\n",
    "            .groupby(\"userId\",func.date_trunc(\"day\",valid_user_log.use_dt).alias(\"day_date\")) \\\n",
    "            .agg(func.sum(\"songplay\").alias(\"amt_song\"), func.max(\"Churn\").alias(\"churn\")) \\\n",
    "            .orderBy(\"userId\",\"day_date\")"
   ]
  },
  {
   "cell_type": "code",
   "execution_count": 50,
   "metadata": {},
   "outputs": [],
   "source": [
    "# 前30天的音乐播放量\n",
    "window_recent1month = Window.partitionBy(\"userId\",\"churn\") \\\n",
    "            .orderBy(func.column(\"day_date\").cast(\"long\")) \\\n",
    "            .rangeBetween(-29*86400, 0)\n",
    "day_song = day_song.withColumn(\"moving1month_sum\", func.sum(\"amt_song\").over(window_recent1month))\n",
    "day_song_pd = day_song.toPandas()"
   ]
  },
  {
   "cell_type": "code",
   "execution_count": 51,
   "metadata": {},
   "outputs": [
    {
     "data": {
      "text/html": [
       "<div>\n",
       "<style scoped>\n",
       "    .dataframe tbody tr th:only-of-type {\n",
       "        vertical-align: middle;\n",
       "    }\n",
       "\n",
       "    .dataframe tbody tr th {\n",
       "        vertical-align: top;\n",
       "    }\n",
       "\n",
       "    .dataframe thead th {\n",
       "        text-align: right;\n",
       "    }\n",
       "</style>\n",
       "<table border=\"1\" class=\"dataframe\">\n",
       "  <thead>\n",
       "    <tr style=\"text-align: right;\">\n",
       "      <th></th>\n",
       "      <th>userId</th>\n",
       "      <th>day_date</th>\n",
       "      <th>amt_song</th>\n",
       "      <th>churn</th>\n",
       "      <th>moving1month_sum</th>\n",
       "    </tr>\n",
       "    <tr>\n",
       "      <th>userId</th>\n",
       "      <th></th>\n",
       "      <th></th>\n",
       "      <th></th>\n",
       "      <th></th>\n",
       "      <th></th>\n",
       "    </tr>\n",
       "  </thead>\n",
       "  <tbody>\n",
       "    <tr>\n",
       "      <td>10</td>\n",
       "      <td>10</td>\n",
       "      <td>2018-10-09</td>\n",
       "      <td>164</td>\n",
       "      <td>1</td>\n",
       "      <td>360</td>\n",
       "    </tr>\n",
       "    <tr>\n",
       "      <td>100</td>\n",
       "      <td>100</td>\n",
       "      <td>2018-12-01</td>\n",
       "      <td>54</td>\n",
       "      <td>0</td>\n",
       "      <td>1941</td>\n",
       "    </tr>\n",
       "    <tr>\n",
       "      <td>100001</td>\n",
       "      <td>100001</td>\n",
       "      <td>2018-10-02</td>\n",
       "      <td>49</td>\n",
       "      <td>1</td>\n",
       "      <td>96</td>\n",
       "    </tr>\n",
       "    <tr>\n",
       "      <td>100002</td>\n",
       "      <td>100002</td>\n",
       "      <td>2018-11-02</td>\n",
       "      <td>73</td>\n",
       "      <td>0</td>\n",
       "      <td>137</td>\n",
       "    </tr>\n",
       "    <tr>\n",
       "      <td>100003</td>\n",
       "      <td>100003</td>\n",
       "      <td>2018-11-08</td>\n",
       "      <td>21</td>\n",
       "      <td>1</td>\n",
       "      <td>659</td>\n",
       "    </tr>\n",
       "  </tbody>\n",
       "</table>\n",
       "</div>"
      ],
      "text/plain": [
       "        userId   day_date  amt_song  churn  moving1month_sum\n",
       "userId                                                      \n",
       "10          10 2018-10-09       164      1               360\n",
       "100        100 2018-12-01        54      0              1941\n",
       "100001  100001 2018-10-02        49      1                96\n",
       "100002  100002 2018-11-02        73      0               137\n",
       "100003  100003 2018-11-08        21      1               659"
      ]
     },
     "execution_count": 51,
     "metadata": {},
     "output_type": "execute_result"
    }
   ],
   "source": [
    "recent1month_songplay = day_song_pd.groupby(\"userId\").apply(lambda x:x.iloc[-1])\n",
    "recent1month_songplay.head()"
   ]
  },
  {
   "cell_type": "code",
   "execution_count": 52,
   "metadata": {
    "scrolled": false
   },
   "outputs": [
    {
     "data": {
      "image/png": "[encoded data removed]",
      "text/plain": [
       "<Figure size 576x432 with 1 Axes>"
      ]
     },
     "metadata": {
      "needs_background": "light"
     },
     "output_type": "display_data"
    }
   ],
   "source": [
    "fig, ax = plt.subplots(figsize=(8,6))\n",
    "bin_edges2 = 10 ** np.arange(0.8, np.log10(recent1month_songplay.moving1month_sum.max())+0.1, 0.1)\n",
    "tick_locs2 = [10, 30, 100, 300, 1000]\n",
    "sns.distplot(recent1month_songplay.query(\"churn == 1\")[\"moving1month_sum\"], kde=False, norm_hist=True, bins=bin_edges2, ax=ax, label=\"churn\", hist_kws={\"alpha\":0.7})\n",
    "sns.distplot(recent1month_songplay.query(\"churn == 0\")[\"moving1month_sum\"], kde=False, norm_hist=True, bins=bin_edges2, ax=ax, label=\"retain\", hist_kws={\"alpha\":0.7});\n",
    "ax.set_xscale(\"log\")\n",
    "ax.set_xticks(tick_locs2)\n",
    "ax.set_xticklabels(tick_locs2)\n",
    "ax.set(title=\"total songplay in recent 1 month before last event\".title(),\n",
    "       xlabel=\"Total Songplay\", ylabel=\"Normalized Frequency\")\n",
    "ax.legend(loc=1);"
   ]
  },
  {
   "cell_type": "markdown",
   "metadata": {},
   "source": [
    "整体上来看，近期播放量，留存用户多于流失用户。但是由于本数据集上仅有两个月的数据量，对于计算近期播放量，总的平均session播放量也能代表近期播放，但是如果延展到大的数据量，时间跨度较大的数据集上，就需要计算用户在近3个月，近6个月或者近1年的播放量，具体问题具体分析。"
   ]
  },
  {
   "cell_type": "markdown",
   "metadata": {},
   "source": [
    "#### Q6. 探索流失用户和留存用户使用平台的时间\n",
    "通过计算用户自注册之日起，累计使用平台的时长"
   ]
  },
  {
   "cell_type": "code",
   "execution_count": 53,
   "metadata": {},
   "outputs": [],
   "source": [
    "use_age = valid_user_log.groupby(\"userId\").agg(func.max(\"Churn\").alias(\"churn\"), func.max(\"use_dt\").alias(\"end_use_dt\"), func.max(\"reg_dt\").alias(\"reg_dt\"))"
   ]
  },
  {
   "cell_type": "code",
   "execution_count": 54,
   "metadata": {},
   "outputs": [],
   "source": [
    "use_age = use_age.withColumn(\"diff_days\",func.datediff(use_age.end_use_dt, use_age.reg_dt))\n",
    "use_age_pd = use_age.toPandas()"
   ]
  },
  {
   "cell_type": "code",
   "execution_count": 55,
   "metadata": {},
   "outputs": [
    {
     "data": {
      "image/png": "[encoded data removed]",
      "text/plain": [
       "<Figure size 360x360 with 1 Axes>"
      ]
     },
     "metadata": {
      "needs_background": "light"
     },
     "output_type": "display_data"
    }
   ],
   "source": [
    "plt.figure(figsize=(5,5))\n",
    "sns.boxplot(x=\"churn\",y=\"diff_days\", data=use_age_pd);"
   ]
  },
  {
   "cell_type": "markdown",
   "metadata": {},
   "source": [
    "从上图可以看出，留存用户在该平台上使用的时间比流失用户使用的时间长，老用户的用户粘性较高"
   ]
  },
  {
   "cell_type": "markdown",
   "metadata": {},
   "source": [
    "#### Q7.  探索流失用户和留存用户对平台的喜爱程度\n",
    "Thumbs Up是95%以上的用户行为，通过计算用户Thumbs Up的次数来探索两类用户对于该平台的点赞量的分布"
   ]
  },
  {
   "cell_type": "code",
   "execution_count": 56,
   "metadata": {},
   "outputs": [],
   "source": [
    "flag_like = func.udf(lambda x: 1 if x == \"Thumbs Up\" else 0, IntegerType())\n",
    "valid_user_log = valid_user_log.withColumn(\"thumbsUp\", flag_like(valid_user_log.page))\n",
    "churn_thumbsup_dis = valid_user_log.groupby(\"userId\").agg(func.sum(\"thumbsUp\").alias(\"amt_thumbsup\"), func.max(\"Churn\").alias(\"churn\"))\n",
    "churn_thumbsup_dis_pd = churn_thumbsup_dis.toPandas()"
   ]
  },
  {
   "cell_type": "code",
   "execution_count": 57,
   "metadata": {
    "scrolled": false
   },
   "outputs": [
    {
     "data": {
      "image/png": "[encoded data removed]",
      "text/plain": [
       "<Figure size 360x360 with 1 Axes>"
      ]
     },
     "metadata": {
      "needs_background": "light"
     },
     "output_type": "display_data"
    }
   ],
   "source": [
    "plt.figure(figsize=(5,5))\n",
    "sns.boxplot(x=\"churn\",y=\"amt_thumbsup\", data=churn_thumbsup_dis_pd);"
   ]
  },
  {
   "cell_type": "markdown",
   "metadata": {},
   "source": [
    "留存用户对平台或音乐的点赞量略高于流失用户"
   ]
  },
  {
   "cell_type": "markdown",
   "metadata": {},
   "source": [
    "#### Q8. 探索添加好友和添加歌曲至播放列表的行为在流失用户和留存用户上的分布\n",
    "\n",
    "添加好友和添加歌曲至播放列表也是大多数用户都有的用户行为，添加好友和添加歌曲至播放列表的次数一定程度能反映用户对于该平台除了播放音乐主要功能外的其他需求，如社交需求。"
   ]
  },
  {
   "cell_type": "code",
   "execution_count": 58,
   "metadata": {},
   "outputs": [],
   "source": [
    "flag_add_frds = func.udf(lambda x: 1 if x == \"Add Friend\" else 0, IntegerType())\n",
    "valid_user_log = valid_user_log.withColumn(\"addFreds\", flag_add_frds(valid_user_log.page))\n",
    "flag_add_pl = func.udf(lambda x: 1 if x == \"Add to Playlist\" else 0, IntegerType())\n",
    "valid_user_log = valid_user_log.withColumn(\"addtoPl\", flag_add_pl(valid_user_log.page))"
   ]
  },
  {
   "cell_type": "code",
   "execution_count": 59,
   "metadata": {},
   "outputs": [],
   "source": [
    "churn_add_freds_dis = valid_user_log.groupby(\"userId\").agg(func.sum(\"addFreds\").alias(\"amt_add_freds\"), func.max(\"Churn\").alias(\"churn\"))\n",
    "churn_add_freds_dis_pd = churn_add_freds_dis.toPandas()"
   ]
  },
  {
   "cell_type": "code",
   "execution_count": 60,
   "metadata": {},
   "outputs": [],
   "source": [
    "churn_add_pl_dis = valid_user_log.groupby(\"userId\").agg(func.sum(\"addtoPl\").alias(\"amt_add_pl\"), func.max(\"Churn\").alias(\"churn\"))\n",
    "churn_add_pl_dis_pd = churn_add_pl_dis.toPandas()"
   ]
  },
  {
   "cell_type": "code",
   "execution_count": 61,
   "metadata": {
    "scrolled": false
   },
   "outputs": [
    {
     "data": {
      "image/png": "[encoded data removed]",
      "text/plain": [
       "<Figure size 720x360 with 2 Axes>"
      ]
     },
     "metadata": {
      "needs_background": "light"
     },
     "output_type": "display_data"
    }
   ],
   "source": [
    "fig, (ax1,ax2) = plt.subplots(1, 2, figsize=(10,5))\n",
    "sns.boxplot(x=\"churn\", y=\"amt_add_freds\",\n",
    "              data=churn_add_freds_dis_pd, ax=ax1)\n",
    "sns.boxplot(x=\"churn\", y=\"amt_add_pl\",\n",
    "              data=churn_add_pl_dis_pd, ax=ax2);"
   ]
  },
  {
   "cell_type": "markdown",
   "metadata": {},
   "source": [
    "在该平台上，添加好友数量和歌曲添加至播放列表的数量越大，越有可能是留存用户"
   ]
  },
  {
   "cell_type": "markdown",
   "metadata": {},
   "source": [
    "#### Q9. 探索喜爱程度、存在天数和音乐播放量之间的关系"
   ]
  },
  {
   "cell_type": "code",
   "execution_count": 62,
   "metadata": {},
   "outputs": [],
   "source": [
    "merge_df1 = pd.merge(churn_thumbsup_dis_pd, use_age_pd, on=\"userId\")"
   ]
  },
  {
   "cell_type": "code",
   "execution_count": 63,
   "metadata": {},
   "outputs": [],
   "source": [
    "merge_df2 = pd.merge(session_avg_songplay_pd, merge_df1, on=\"userId\").drop(labels=[\"churn_x\",\"churn_y\"], axis=1)"
   ]
  },
  {
   "cell_type": "code",
   "execution_count": 64,
   "metadata": {
    "scrolled": false
   },
   "outputs": [
    {
     "data": {
      "image/png": "[encoded data removed]",
      "text/plain": [
       "<Figure size 576x432 with 1 Axes>"
      ]
     },
     "metadata": {
      "needs_background": "light"
     },
     "output_type": "display_data"
    }
   ],
   "source": [
    "plt.figure(figsize=(8,6))\n",
    "sns.scatterplot(x =\"avg_songplay\", y = \"amt_thumbsup\", \n",
    "                hue=\"Churn\",size=\"diff_days\", \n",
    "                palette=\"viridis\", sizes=(10, 200),\n",
    "                data=merge_df2, alpha=0.7);"
   ]
  },
  {
   "cell_type": "markdown",
   "metadata": {},
   "source": [
    "- 上图可以得出，用户的音乐播放量与用户对该平台的点赞量呈正相关，点赞量的越大，音乐播放量也越大"
   ]
  },
  {
   "cell_type": "markdown",
   "metadata": {},
   "source": [
    "**探索性分析小结：**  \n",
    "\n",
    "通过以上的探索性分析，整体而言，留存用户与流失用户在某些行为数量存在一些差异：\n",
    "\n",
    "- 性别\n",
    "- 用户级别\n",
    "- 平均session的音乐播放量\n",
    "- session次数\n",
    "- 点赞量\n",
    "- 使用平台的天数\n",
    "- 添加好友的次数\n",
    "- 添加歌曲至播放列表的次数"
   ]
  },
  {
   "cell_type": "markdown",
   "metadata": {},
   "source": [
    "# 4. 特征工程\n",
    "熟悉了数据之后，就可以构建你认为会对训练模型帮助最大的特征。要处理完整数据集，你可以按照下述步骤：\n",
    "- 写一个脚本来从小数据集中提取你需要的特征\n",
    "- 确保你的脚本可以拓展到大数据集上，使用之前教过的最佳实践原则\n",
    "- 在完整数据集上运行你的脚本，按运行情况调试代码\n",
    "\n",
    "根据上述探索性分析结果，以下是可能帮助本项目预测用户使用流失的相关特征"
   ]
  },
  {
   "cell_type": "markdown",
   "metadata": {},
   "source": [
    "| Feature | Type | Description |\n",
    "| :- | :- | :- |\n",
    "| gender_female | Categorical | male is 0, female is 1 |\n",
    "| level_paid | Categorical | free user is 0, paid is 1  |\n",
    "| churn | Categorical | retain user is 0, churn user is 1  |\n",
    "| avg_sess_songplay | Numberic | Avg of songplay in per session |\n",
    "| sessionCount  | Numberic | Total session count |\n",
    "| amt_thumbsup | Numberic | Numberic amount of thumbsup by every unique user in this period |\n",
    "| amt_add_playlist | Numberic | Total amount of add to playlist by every unique user in this period|\n",
    "| amt_add_friends | Numberic | Total amount of add friends by every unique user in this period|\n",
    "| daysUsing | Numberic | Number of days from last event to registered day |"
   ]
  },
  {
   "cell_type": "markdown",
   "metadata": {},
   "source": [
    "## 4.1 整合特征\n",
    "\n",
    "根据上述表格所列的特征，向源数据提取关键特征，整合，并将其合并成为用于建模的数据集"
   ]
  },
  {
   "cell_type": "code",
   "execution_count": 65,
   "metadata": {},
   "outputs": [],
   "source": [
    "extract_features = ['userId','gender','level','sessionId','page','use_dt','reg_dt','Churn']\n",
    "\n",
    "flag_female = func.udf(lambda x: 1 if x == \"F\" else 0, IntegerType())\n",
    "flag_paid = func.udf(lambda x: 1 if x == \"paid\" else 0, IntegerType())\n",
    "flag_song = func.udf(lambda x: 1 if x == \"NextSong\" else 0, IntegerType())\n",
    "flag_like = func.udf(lambda x: 1 if x == \"Thumbs Up\" else 0, IntegerType())\n",
    "flag_add_frds = func.udf(lambda x: 1 if x == \"Add Friend\" else 0, IntegerType())\n",
    "flag_add_pl = func.udf(lambda x: 1 if x == \"Add to Playlist\" else 0, IntegerType())"
   ]
  },
  {
   "cell_type": "code",
   "execution_count": 66,
   "metadata": {},
   "outputs": [],
   "source": [
    "def add_features(df, extract_features):\n",
    "    \n",
    "    '''\n",
    "    INPUTS:\n",
    "    df - (dataframe) original dataset that be used to etract features.\n",
    "    extract_features - (list) list of key features that need to be handle.\n",
    "    \n",
    "    OUTPUTS:\n",
    "    feature_df(n) - (dataframe) dataframe that has been added some extra features from the key features. \n",
    "    \n",
    "    '''\n",
    "    # extract features from original data to a new data\n",
    "    feature_df = df.select(extract_features)\n",
    "    \n",
    "    # add extra features to engineer features\n",
    "    feature_df1 = feature_df.withColumn(\"isFemale\", flag_female(feature_df.gender))\n",
    "    feature_df2 = feature_df1.withColumn(\"isPaid\", flag_paid(feature_df.level))\n",
    "    feature_df3 = feature_df2.withColumn(\"isSong\", flag_song(feature_df.page))\n",
    "    feature_df4 = feature_df3.withColumn(\"isThumbsup\", flag_like(feature_df.page))\n",
    "    feature_df5 = feature_df4.withColumn(\"addFriend\", flag_add_frds(feature_df.page))\n",
    "    feature_df6 = feature_df5.withColumn(\"addPlaylist\", flag_add_pl(feature_df.page))\n",
    "    \n",
    "    return feature_df6"
   ]
  },
  {
   "cell_type": "markdown",
   "metadata": {},
   "source": [
    "当数据量较大，数据记录的时间跨度较大时，还需要添加用于描述最近的用户音乐播放量趋势的特征，如近6个月的月均音乐播放量，近3个月的月均音乐播放量，近1个月的音乐播放量等特征。"
   ]
  },
  {
   "cell_type": "code",
   "execution_count": 67,
   "metadata": {},
   "outputs": [],
   "source": [
    "def calculate_recent_songplay(df):\n",
    "    \n",
    "    '''\n",
    "    INPUTS:\n",
    "    df - (dataframe) original dataset\n",
    "    \n",
    "    OUTPUTS:\n",
    "    recent_songplay - (dataframe or 0) contain data about recent songplay \n",
    "    \n",
    "    '''\n",
    "    \n",
    "    start_end_date = df.select(func.min(\"use_dt\").alias(\"start_use_date\"),\n",
    "                               func.max(\"use_dt\").alias(\"end_use_date\"))\n",
    "    \n",
    "    start_end_date = start_end_date.withColumn(\"interval_months\", \n",
    "                                               func.round(func.datediff(start_end_date[\"end_use_date\"], \n",
    "                                                             start_end_date[\"start_use_date\"])/30,2))\n",
    "    interval_months = start_end_date.select(\"interval_months\").collect()[0][\"interval_months\"]\n",
    "    \n",
    "    \n",
    "    \n",
    "    if (interval_months >= 6):\n",
    "        \n",
    "        print(\"the time range more than 6 months\")\n",
    "        \n",
    "        last6month_date = start_end_date.select(func.add_months(start_end_date.end_use_date, -6).alias(\"last_6_month_dt\")).collect[0]['last_6_month_dt']\n",
    "        last3month_date = start_end_date.select(func.add_months(start_end_date.end_use_date, -3).alias(\"last_3_month_dt\")).collect[0]['last_3_month_dt']\n",
    "        last1month_date = start_end_date.select(func.add_months(start_end_date.end_use_date, -1).alias(\"last_1_month_dt\")).collect[0]['last_1_month_dt']\n",
    "        \n",
    "        last6month_df = df.filter((df.use_dt >= last6month_date) & (df.use_dt <= start_end_date.end_use_date))\n",
    "        last3month_df = df.filter((df.use_dt >= last3month_date) & (df.use_dt <= start_end_date.end_use_date))\n",
    "        last1month_df = df.filter((df.use_dt >= last1month_date) & (df.use_dt <= start_end_date.end_use_date))\n",
    "        \n",
    "        \n",
    "        last6month = last6month_df.groupby(\"userId\").agg((func.sum(\"isSong\")/6).alias(\"avg_songplay_last_6_mon\"))\n",
    "        last3month = last3month_df.groupby(\"userId\").agg((func.sum(\"isSong\")/3).alias(\"avg_songplay_last_3_mon\"))\n",
    "        last1month = last1month_df.groupby(\"userId\").agg(func.sum(\"isSong\").alias(\"avg_songplay_last_1_mon\"))\n",
    "        \n",
    "        \n",
    "        recent_songplay = last6month.join(last3month, on=\"userId\", how=\"left outer\").join(last1month, on=\"userId\", how=\"left outer\")\n",
    "        \n",
    "        \n",
    "    \n",
    "    elif (interval_months >=3):\n",
    "        \n",
    "        print(\"the time range more than 3 months but less than 6 months\")\n",
    "        \n",
    "        last3month_date = start_end_date.select(func.add_months(start_end_date.end_use_date, -3).alias(\"last_3_month_dt\")).collect[0]['last_3_month_dt']\n",
    "        last1month_date = start_end_date.select(func.add_months(start_end_date.end_use_date, -1).alias(\"last_1_month_dt\")).collect[0]['last_1_month_dt']\n",
    "        \n",
    "        last3month_df = df.filter((df.use_dt >= last3month_date) & (df.use_dt <= start_end_date.end_use_date))\n",
    "        last1month_df = df.filter((df.use_dt >= last1month_date) & (df.use_dt <= start_end_date.end_use_date))\n",
    "        \n",
    "        recent_songplay = last3month.join(last1month, on=\"userId\", how=\"left outer\")\n",
    "        \n",
    "    else:\n",
    "        print(\"the time range less than 3 months\")\n",
    "        recent_songplay = \"\"\n",
    "        \n",
    "    return recent_songplay\n",
    "    "
   ]
  },
  {
   "cell_type": "code",
   "execution_count": 68,
   "metadata": {},
   "outputs": [],
   "source": [
    "def feature_eng(df, recent_songplay):\n",
    "    \n",
    "    '''\n",
    "    INPUTS:\n",
    "    df - (dataframe) complete add some extra features\n",
    "    recent_songplay - (dataframe or 0) contain data about recent songplay \n",
    "    \n",
    "    OUTPUTS:\n",
    "    features - (dataframe) completed feature engineered dataframe\n",
    "    \n",
    "    '''\n",
    "    # no session\n",
    "           \n",
    "    df1 = df.groupby(df[\"userId\"]).agg(func.max(\"isFemale\").alias(\"gendel_female\"),\n",
    "                                       func.max(\"isPaid\").alias(\"level_paid\"),\n",
    "                                       func.max(\"Churn\").alias(\"churn\"),\n",
    "                                       func.sum(\"isThumbsup\").alias(\"amt_thumbsup\"),\n",
    "                                       func.sum(\"addFriend\").alias(\"amt_add_friends\"),\n",
    "                                       func.sum(\"addPlaylist\").alias(\"amt_add_playlist\"),\n",
    "                                       func.countDistinct(\"sessionId\").alias(\"sessCount\"),\n",
    "                                       func.datediff(func.max(\"use_dt\"), func.min(\"reg_dt\")).alias(\"daysUsing\"))\n",
    "    # with sesssion        \n",
    "    df2 = df.groupby(df[\"userId\"], df[\"sessionId\"]).agg(func.sum(\"isSong\").alias(\"amt_songplay\")) \\\n",
    "                                                    .groupby(\"userId\") \\\n",
    "                                                    .agg(func.round(func.mean(\"amt_songplay\"),2).alias(\"avg_sess_songplay\"))\n",
    "    \n",
    "    \n",
    "    features = df1.join(df2, on=\"userId\", how=\"inner\")\n",
    "    \n",
    "    if recent_songplay:\n",
    "        \n",
    "        features = features.join(recent_songplay, on=\"userId\", how=\"left outer\").drop(func.col(\"userId\"))\n",
    "    \n",
    "    return features"
   ]
  },
  {
   "cell_type": "code",
   "execution_count": 69,
   "metadata": {},
   "outputs": [
    {
     "name": "stdout",
     "output_type": "stream",
     "text": [
      "the time range less than 3 months\n"
     ]
    }
   ],
   "source": [
    "feature_df = add_features(valid_user_log, extract_features=extract_features)\n",
    "\n",
    "features = feature_eng(feature_df, calculate_recent_songplay(valid_user_log))"
   ]
  },
  {
   "cell_type": "code",
   "execution_count": 70,
   "metadata": {
    "scrolled": false
   },
   "outputs": [
    {
     "name": "stdout",
     "output_type": "stream",
     "text": [
      "+------+-------------+----------+-----+------------+---------------+----------------+---------+---------+-----------------+\n",
      "|userId|gendel_female|level_paid|churn|amt_thumbsup|amt_add_friends|amt_add_playlist|sessCount|daysUsing|avg_sess_songplay|\n",
      "+------+-------------+----------+-----+------------+---------------+----------------+---------+---------+-----------------+\n",
      "|100010|            1|         0|    1|           4|              3|               1|        2|       14|             48.0|\n",
      "|200002|            0|         1|    1|          15|              2|               6|        5|       53|             62.0|\n",
      "|   296|            1|         1|    1|           8|              2|               3|        5|       27|             22.4|\n",
      "|   125|            0|         0|    0|           3|              3|               2|        3|      105|            20.67|\n",
      "|   124|            1|         1|    1|         102|             26|              45|       17|      112|           107.41|\n",
      "|    51|            0|         1|    1|          16|              3|               8|        5|       19|             53.2|\n",
      "|     7|            0|         0|    0|          12|             16|               6|       15|       78|             30.8|\n",
      "|200037|            0|         0|    1|           5|              2|               4|        7|       43|            17.43|\n",
      "|   169|            0|         0|    0|           6|              6|               0|        8|       78|             14.0|\n",
      "|   205|            1|         1|    0|          50|             21|              25|        5|       53|            209.6|\n",
      "|   272|            1|         0|    0|           7|              0|               3|        2|       28|             48.5|\n",
      "|    15|            0|         1|    0|          93|             32|              57|       18|       56|           101.94|\n",
      "|   232|            1|         1|    0|          97|             43|              61|       23|      107|            81.57|\n",
      "|   234|            0|         1|    1|          91|             17|              51|       26|       36|            64.38|\n",
      "|   282|            0|         1|    0|         133|             79|              66|       29|       78|            90.66|\n",
      "|    54|            1|         1|    1|          26|             20|              15|        8|       75|            64.63|\n",
      "|   155|            1|         1|    0|           7|              0|               4|        4|       95|             35.0|\n",
      "|200043|            1|         1|    0|          33|             12|              23|       12|       50|            51.25|\n",
      "|100014|            0|         1|    1|          14|              3|              11|        4|       54|             83.0|\n",
      "|   132|            1|         1|    1|           4|              4|               4|        2|       23|             56.5|\n",
      "+------+-------------+----------+-----+------------+---------------+----------------+---------+---------+-----------------+\n",
      "only showing top 20 rows\n",
      "\n"
     ]
    }
   ],
   "source": [
    "features.show()"
   ]
  },
  {
   "cell_type": "markdown",
   "metadata": {},
   "source": [
    "# 5. 建模\n",
    "\n",
    "将完整数据集分成训练集、验证集和测试集。测试几种适用的机器学习方法，评价不同机器学习方法的准确率，根据情况调节参数。根据准确率挑选出表现最好的那个模型，然后报告在训练集上的结果。因为流失顾客数据集很小，选用 F1 score 作为优化指标。"
   ]
  },
  {
   "cell_type": "markdown",
   "metadata": {},
   "source": [
    "## 5.1 为何选用 F1score 作为优化指标\n",
    "\n",
    "$F1score$是$Precision$和$Recall$的调和平均数，即：\n",
    "\n",
    "$$F1 = 2\\times{\\frac{Precision \\times{Recall}}{Precision + Recall}}$$\n",
    "\n",
    "$$Precision = \\frac{TP}{TP + FP}$$\n",
    "$$Recall = \\frac{TP}{TP + FN}$$\n",
    "\n",
    "- $FP$代表假阳性个数，即实际是留存用户但预测为流失用户的个数；$FN$代表假阴性的个数，即实际是流失用户但预测为留存用户的个数；\n",
    "- 实际流失用户数量过小，则对于实际为流失用户，预测流失和留存的分布数量也小，也就是$FN$的数量会很小；相反实际留存数量过大，对于实际为留存用户，预测流失和留存的分布数量也较大，也就是$FP$的数量会很大；\n",
    "- 如果选择$precision$或者$recall$任意一个作为优化指标的话，因为用户数量的差异，$precision$可能因为$FP$的数量过大而导致精度过小，而$recall$可能因为$FN$过小而导致召回率过大，所以单纯的选择一个作为评估指标不能真实地反映模型评估的结果，所以选择$F1score$或者$F-beta$作为评估结果\n",
    "- 选择$F1score$而不选择$F-beta$，是因为本项目不涉及后续的为了挽回流失用户而采取的营销手段或者其他激励手段所带来的成本和效果，所以无法判定是否要偏倚$precision$或者$recall$。"
   ]
  },
  {
   "cell_type": "markdown",
   "metadata": {},
   "source": [
    "## 5.2 拆分数据集\n",
    "将数据集拆分成训练集、验证集和测试集，验证集用于训练后的模型的验证，根据验证结果，对分类器的参数进行优化。"
   ]
  },
  {
   "cell_type": "code",
   "execution_count": 71,
   "metadata": {},
   "outputs": [
    {
     "name": "stdout",
     "output_type": "stream",
     "text": [
      "root\n",
      " |-- userId: string (nullable = true)\n",
      " |-- gendel_female: integer (nullable = true)\n",
      " |-- level_paid: integer (nullable = true)\n",
      " |-- churn: integer (nullable = true)\n",
      " |-- amt_thumbsup: long (nullable = true)\n",
      " |-- amt_add_friends: long (nullable = true)\n",
      " |-- amt_add_playlist: long (nullable = true)\n",
      " |-- sessCount: long (nullable = false)\n",
      " |-- daysUsing: integer (nullable = true)\n",
      " |-- avg_sess_songplay: double (nullable = true)\n",
      "\n"
     ]
    }
   ],
   "source": [
    "features.printSchema()"
   ]
  },
  {
   "cell_type": "code",
   "execution_count": 72,
   "metadata": {},
   "outputs": [
    {
     "name": "stdout",
     "output_type": "stream",
     "text": [
      "The whole data's shape : 448\n",
      "Train's shape : 319\n",
      "Validation's shape : 68\n",
      "Test's shape : 61\n"
     ]
    }
   ],
   "source": [
    "# 将用于建模的数据集拆分成训练、测试和验证数据集\n",
    "train, validation, test = features.randomSplit([0.7,0.15, 0.15], seed=42)\n",
    "\n",
    "\n",
    "print(\"The whole data's shape : {}\\nTrain's shape : {}\\nValidation's shape : {}\\nTest's shape : {}\" \\\n",
    "      .format(features.count(), train.count(), validation.count(), test.count()))"
   ]
  },
  {
   "cell_type": "markdown",
   "metadata": {},
   "source": [
    "源数据集中，流失用户仅占总用户人数的22%(总人数共有448人，流失用户有99人)，所以两类用户人数的差异之大很可能会对模型的正确学习产生不利影响，从而导致模型的预测效果不佳，如下结果，训练集中的流失用户仅占总用户人数的23%。"
   ]
  },
  {
   "cell_type": "code",
   "execution_count": 73,
   "metadata": {
    "scrolled": true
   },
   "outputs": [
    {
     "name": "stdout",
     "output_type": "stream",
     "text": [
      "+---------+\n",
      "|churn_pct|\n",
      "+---------+\n",
      "|     0.23|\n",
      "+---------+\n",
      "\n"
     ]
    }
   ],
   "source": [
    "# 探索测试集中流失用户占总独立用户人数的比重\n",
    "train.select(func.round(func.mean(\"churn\"),2).alias(\"churn_pct\")).show()"
   ]
  },
  {
   "cell_type": "markdown",
   "metadata": {},
   "source": [
    "## 5.3 重新取样\n",
    "从上述结果可以看出，由于流失用户和留存用户在数据集中人数上严重失衡，从而不利于模型的训练，所以需要减少部分训练集中的留存用户记录，使其与流失用户记录相匹配"
   ]
  },
  {
   "cell_type": "code",
   "execution_count": 74,
   "metadata": {},
   "outputs": [],
   "source": [
    "def resample(df, minor, major):\n",
    "    '''\n",
    "    INPUTS:\n",
    "    df - (dataframe) dataset that should be balanced\n",
    "    minor - (int) labeled minority user\n",
    "    major - (int) labeled majority user\n",
    "    \n",
    "    OUTPUTS:\n",
    "    \n",
    "    bal_df - (dataframe) balanced dataset that number of labeled majority equals to the number of labeled minority\n",
    "    \n",
    "    '''\n",
    "    \n",
    "    minor_record_count = df.filter(df.churn == minor).count()\n",
    "    minor_records = df.filter(df.churn == minor)\n",
    "    major_records = df.filter(df.churn == major).sample(withReplacement=False, fraction=1.0, seed=42).limit(minor_record_count)\n",
    "    \n",
    "    bal_df = minor_records.unionByName(major_records)\n",
    "    \n",
    "    return bal_df\n"
   ]
  },
  {
   "cell_type": "code",
   "execution_count": 75,
   "metadata": {},
   "outputs": [],
   "source": [
    "bal_train = resample(train, 1, 0)"
   ]
  },
  {
   "cell_type": "code",
   "execution_count": 76,
   "metadata": {},
   "outputs": [
    {
     "name": "stdout",
     "output_type": "stream",
     "text": [
      "+---------------+\n",
      "|train_churn_pct|\n",
      "+---------------+\n",
      "|            1.0|\n",
      "+---------------+\n",
      "\n"
     ]
    }
   ],
   "source": [
    "# 检查balance后，训练集的留存用户占所有用户人数的比重\n",
    "bal_train.select(func.round(func.mean(bal_train.churn)).alias(\"train_churn_pct\")).show()"
   ]
  },
  {
   "cell_type": "markdown",
   "metadata": {},
   "source": [
    "## 5.4 构建管道，训练模型\n",
    "\n",
    "将数据集拆分成训练集、测试集和验证集，以及对训练集重新取样后，需要对数据集进行预处理，并进行模型的训练。为了应用到较大的数据集中，下方使用函数来定义整个操作流程：\n",
    "\n",
    "- 区分features和label\n",
    "- 数据预处理，如数据缩放\n",
    "- 选择学习器\n",
    "- 构建管道\n",
    "- 使用训练数据集进行模型的训练\n",
    "- 预测\n",
    "- 评估"
   ]
  },
  {
   "cell_type": "code",
   "execution_count": 77,
   "metadata": {},
   "outputs": [],
   "source": [
    "def create_pipeline(label_col, feature_cols, clf):\n",
    "    \n",
    "    '''\n",
    "    INPUTS:\n",
    "    \n",
    "    label_col - (string) label column name\n",
    "    feature_cols - (list) list of feature column name\n",
    "    clf - (classifier) the learning algorithm to be trained and predicted on\n",
    "    \n",
    "    OUTPUTS:\n",
    "    \n",
    "    pipeline - (pipeline) learning steps\n",
    "    '''\n",
    "    \n",
    "    labelIndexer = StringIndexer(inputCol=label_col, outputCol=\"label\")\n",
    "    featureIndexer = VectorAssembler(inputCols=feature_cols, outputCol=\"rawFeatures\")\n",
    "    scaler = MinMaxScaler(inputCol=\"rawFeatures\", outputCol=\"features\")\n",
    "\n",
    "    pipeline = Pipeline(stages=[labelIndexer, featureIndexer, scaler, clf])\n",
    "    \n",
    "    return pipeline"
   ]
  },
  {
   "cell_type": "code",
   "execution_count": 78,
   "metadata": {},
   "outputs": [],
   "source": [
    "def train_predict(training_data, test_data, pipeline):\n",
    "    '''\n",
    "    INPUTS:\n",
    "    \n",
    "    training_data - (dataframe) balanced dataset that be used to train model\n",
    "    test_data - (dataframe) dataset that be used to predict model.\n",
    "    pipeline - (pipeline) the learning stage have been defined\n",
    "    \n",
    "    OUTPUTS:\n",
    "    \n",
    "    result - (dict) dict of accuracy, precision, recall , f1 and so on \n",
    "    '''\n",
    "    result = dict()\n",
    "    \n",
    "    # Train model and calculate runtime.\n",
    "    startTime = time.time()\n",
    "    model = pipeline.fit(training_data)\n",
    "    endTime = time.time()\n",
    "    \n",
    "    train_run_time = round(endTime - startTime, 2)\n",
    "    result[\"train_runtime\"] = train_run_time\n",
    "    \n",
    "    # Make predictions.\n",
    "    startTime = time.time()\n",
    "    trainPredictions = model.transform(training_data)\n",
    "    testPredictions = model.transform(test_data)\n",
    "    endTime = time.time()\n",
    "    \n",
    "    pred_run_time = round(endTime - startTime, 2)\n",
    "    result[\"pred_runtime\"] = pred_run_time\n",
    "    \n",
    "    # Calculate f1 score on training data and test data\n",
    "    train_predictionAndLabels = trainPredictions.select(\"prediction\",\"label\").rdd.map(lambda row: (row[0], row[1]))\n",
    "    test_predictionAndLabels = testPredictions.select(\"prediction\",\"label\").rdd.map(lambda row: (row[0], row[1]))\n",
    "    \n",
    "    train_metrics = MulticlassMetrics(train_predictionAndLabels)\n",
    "    test_metrics = MulticlassMetrics(test_predictionAndLabels)\n",
    "    \n",
    "    train_f1Score = train_metrics.fMeasure(label=1.0, beta=1.0)\n",
    "    test_f1Score = test_metrics.fMeasure(label=1.0, beta=1.0)\n",
    "    result[\"train_f1\"] = train_f1Score\n",
    "    result[\"test_f1\"] = test_f1Score\n",
    "    \n",
    "    return result\n",
    "    "
   ]
  },
  {
   "cell_type": "markdown",
   "metadata": {},
   "source": [
    "## 5.5 初始化算法\n",
    "本项目是一个二项式分类的问题，通过用户的相关特征数据来预测该用户是否是流失用户。常用的分类算法如下所示，遍历这些算法，先使用各个算法的默认参数，观察验证集在各个算法的预测效果，预测评估指标选用f1score。  \n",
    "\n",
    "常用的分类算法：\n",
    "- 逻辑回归\n",
    "- 决策树\n",
    "- 随机森林\n",
    "- 简单贝叶斯"
   ]
  },
  {
   "cell_type": "code",
   "execution_count": 79,
   "metadata": {},
   "outputs": [
    {
     "name": "stdout",
     "output_type": "stream",
     "text": [
      "This is LogisticRegression started\n",
      "This is DecisionTreeClassifier started\n",
      "This is RandomForestClassifier started\n",
      "This is NaiveBayes started\n",
      "Running time : 322.1041066328684 minintes\n"
     ]
    },
    {
     "data": {
      "text/html": [
       "<div>\n",
       "<style scoped>\n",
       "    .dataframe tbody tr th:only-of-type {\n",
       "        vertical-align: middle;\n",
       "    }\n",
       "\n",
       "    .dataframe tbody tr th {\n",
       "        vertical-align: top;\n",
       "    }\n",
       "\n",
       "    .dataframe thead th {\n",
       "        text-align: right;\n",
       "    }\n",
       "</style>\n",
       "<table border=\"1\" class=\"dataframe\">\n",
       "  <thead>\n",
       "    <tr style=\"text-align: right;\">\n",
       "      <th></th>\n",
       "      <th>LogisticRegression</th>\n",
       "      <th>DecisionTreeClassifier</th>\n",
       "      <th>RandomForestClassifier</th>\n",
       "      <th>NaiveBayes</th>\n",
       "    </tr>\n",
       "  </thead>\n",
       "  <tbody>\n",
       "    <tr>\n",
       "      <td>train_runtime</td>\n",
       "      <td>2860.100000</td>\n",
       "      <td>2694.770000</td>\n",
       "      <td>2501.140000</td>\n",
       "      <td>2408.140000</td>\n",
       "    </tr>\n",
       "    <tr>\n",
       "      <td>pred_runtime</td>\n",
       "      <td>0.720000</td>\n",
       "      <td>0.850000</td>\n",
       "      <td>0.880000</td>\n",
       "      <td>0.710000</td>\n",
       "    </tr>\n",
       "    <tr>\n",
       "      <td>train_f1</td>\n",
       "      <td>0.634483</td>\n",
       "      <td>0.738255</td>\n",
       "      <td>0.828125</td>\n",
       "      <td>0.600000</td>\n",
       "    </tr>\n",
       "    <tr>\n",
       "      <td>test_f1</td>\n",
       "      <td>0.384615</td>\n",
       "      <td>0.392857</td>\n",
       "      <td>0.487805</td>\n",
       "      <td>0.377358</td>\n",
       "    </tr>\n",
       "  </tbody>\n",
       "</table>\n",
       "</div>"
      ],
      "text/plain": [
       "               LogisticRegression  DecisionTreeClassifier  \\\n",
       "train_runtime         2860.100000             2694.770000   \n",
       "pred_runtime             0.720000                0.850000   \n",
       "train_f1                 0.634483                0.738255   \n",
       "test_f1                  0.384615                0.392857   \n",
       "\n",
       "               RandomForestClassifier   NaiveBayes  \n",
       "train_runtime             2501.140000  2408.140000  \n",
       "pred_runtime                 0.880000     0.710000  \n",
       "train_f1                     0.828125     0.600000  \n",
       "test_f1                      0.487805     0.377358  "
      ]
     },
     "execution_count": 79,
     "metadata": {},
     "output_type": "execute_result"
    }
   ],
   "source": [
    "LR_clf = LogisticRegression()\n",
    "DT_clf = DecisionTreeClassifier()\n",
    "RF_clf = RandomForestClassifier()\n",
    "NB_clf = NaiveBayes()\n",
    "learner_list = [LR_clf, DT_clf, RF_clf, NB_clf]\n",
    "feature_cols = ['gendel_female','level_paid','amt_thumbsup','amt_add_friends',\n",
    "                'amt_add_playlist','sessCount','daysUsing','avg_sess_songplay']\n",
    "label_col = \"churn\"\n",
    "\n",
    "results = dict()\n",
    "start_point_time = time.time()\n",
    "for learner in learner_list:\n",
    "    clf_name = learner.__class__.__name__\n",
    "    print(\"This is {} started\".format(clf_name))\n",
    "    pipeline = create_pipeline(label_col=label_col, feature_cols=feature_cols, clf=learner)\n",
    "    result = train_predict(bal_train, validation, pipeline)\n",
    "    \n",
    "    results[clf_name] = result\n",
    "\n",
    "end_point_time = time.time()\n",
    "print(\"Running time : {} minintes\".format((end_point_time - start_point_time)/60))\n",
    "\n",
    "evaluation_df = pd.DataFrame(results)\n",
    "evaluation_df"
   ]
  },
  {
   "cell_type": "markdown",
   "metadata": {},
   "source": [
    "以上是各个算法的初始化预测评估数据，可以看出，在使用默认参数的情况：\n",
    "\n",
    "- 逻辑回归和随机森林在测试集中的评估效果相对较好，而且随机森林在训练集中拟合效果也较好，所以按照训练集中的f1得分和测试集中的f1得分，平均得分相对较高是随机森林，下面将对随机森林的参数进行网格化调整"
   ]
  },
  {
   "cell_type": "markdown",
   "metadata": {},
   "source": [
    "## 5.6 网格化调参\n",
    "\n",
    "通过上述的评估结果显示，选择随机森林作为本项目的适用算法，并对该算法的参数进行调参，在训练集中使用交叉验证3折验证，对模型进行优化，以避免过拟合。"
   ]
  },
  {
   "cell_type": "code",
   "execution_count": 81,
   "metadata": {},
   "outputs": [
    {
     "name": "stdout",
     "output_type": "stream",
     "text": [
      "Unoptimized RF model: F1 score on validation data is 0.49\n",
      "Optimized RF model: F1 score on validation data is 0.53\n",
      "RF tuned running time is 229.27 minutes\n"
     ]
    }
   ],
   "source": [
    "# 对随机森林进行调参\n",
    "start_time = time.time()\n",
    "\n",
    "print(\"Unoptimized RF model: F1 score on validation data is {:.2f}\".format(evaluation_df.loc[\"test_f1\",\"RandomForestClassifier\"]))\n",
    "pipeline_rf = create_pipeline(label_col=label_col, feature_cols=feature_cols, clf=RF_clf)\n",
    "paramGrid_rf = ParamGridBuilder() \\\n",
    "    .addGrid(RF_clf.maxDepth, [3, 5, 7]) \\\n",
    "    .addGrid(RF_clf.minInstancesPerNode, [2, 4, 5]) \\\n",
    "    .addGrid(RF_clf.numTrees, [4, 6, 8]) \\\n",
    "    .addGrid(RF_clf.seed, [42]) \\\n",
    "    .build()\n",
    "\n",
    "crossval_rf = CrossValidator(estimator=pipeline_rf,\n",
    "                          estimatorParamMaps=paramGrid_rf,\n",
    "                          evaluator=BinaryClassificationEvaluator(metricName=\"areaUnderROC\"),\n",
    "                          numFolds=3)\n",
    "\n",
    "cvModel_rf = crossval_rf.fit(bal_train)\n",
    "\n",
    "pred_tuned_rf = cvModel_rf.transform(validation)\n",
    "pred_tuned_rdd_rf = pred_tuned_rf.select(\"prediction\",\"label\").rdd.map(lambda row: (row[0], row[1]))\n",
    "metrics_tuned_rf = MulticlassMetrics(pred_tuned_rdd_rf)\n",
    "f1score_tuned_rf = metrics_tuned_rf.fMeasure(label=1.0, beta=1.0)\n",
    "\n",
    "\n",
    "end_time= time.time()\n",
    "print(\"Optimized RF model: F1 score on validation data is {:.2f}\".format(f1score_tuned_rf))\n",
    "print(\"RF tuned running time is {:.2f} minutes\".format((end_time - start_time)/60))"
   ]
  },
  {
   "cell_type": "code",
   "execution_count": 82,
   "metadata": {},
   "outputs": [
    {
     "data": {
      "text/plain": [
       "{Param(parent='RandomForestClassifier_11a802f76ee0', name='featuresCol', doc='features column name.'): 'features',\n",
       " Param(parent='RandomForestClassifier_11a802f76ee0', name='labelCol', doc='label column name.'): 'label',\n",
       " Param(parent='RandomForestClassifier_11a802f76ee0', name='predictionCol', doc='prediction column name.'): 'prediction',\n",
       " Param(parent='RandomForestClassifier_11a802f76ee0', name='probabilityCol', doc='Column name for predicted class conditional probabilities. Note: Not all models output well-calibrated probability estimates! These probabilities should be treated as confidences, not precise probabilities.'): 'probability',\n",
       " Param(parent='RandomForestClassifier_11a802f76ee0', name='rawPredictionCol', doc='raw prediction (a.k.a. confidence) column name.'): 'rawPrediction',\n",
       " Param(parent='RandomForestClassifier_11a802f76ee0', name='seed', doc='random seed.'): 42,\n",
       " Param(parent='RandomForestClassifier_11a802f76ee0', name='bootstrap', doc='Whether bootstrap samples are used when building trees.'): True,\n",
       " Param(parent='RandomForestClassifier_11a802f76ee0', name='cacheNodeIds', doc='If false, the algorithm will pass trees to executors to match instances with nodes. If true, the algorithm will cache node IDs for each instance. Caching can speed up training of deeper trees. Users can set how often should the cache be checkpointed or disable it by setting checkpointInterval.'): False,\n",
       " Param(parent='RandomForestClassifier_11a802f76ee0', name='checkpointInterval', doc='set checkpoint interval (>= 1) or disable checkpoint (-1). E.g. 10 means that the cache will get checkpointed every 10 iterations. Note: this setting will be ignored if the checkpoint directory is not set in the SparkContext.'): 10,\n",
       " Param(parent='RandomForestClassifier_11a802f76ee0', name='featureSubsetStrategy', doc=\"The number of features to consider for splits at each tree node. Supported options: 'auto' (choose automatically for task: If numTrees == 1, set to 'all'. If numTrees > 1 (forest), set to 'sqrt' for classification and to 'onethird' for regression), 'all' (use all features), 'onethird' (use 1/3 of the features), 'sqrt' (use sqrt(number of features)), 'log2' (use log2(number of features)), 'n' (when n is in the range (0, 1.0], use n * number of features. When n is in the range (1, number of features), use n features). default = 'auto'\"): 'auto',\n",
       " Param(parent='RandomForestClassifier_11a802f76ee0', name='impurity', doc='Criterion used for information gain calculation (case-insensitive). Supported options: entropy, gini'): 'gini',\n",
       " Param(parent='RandomForestClassifier_11a802f76ee0', name='leafCol', doc='Leaf indices column name. Predicted leaf index of each instance in each tree by preorder.'): '',\n",
       " Param(parent='RandomForestClassifier_11a802f76ee0', name='maxBins', doc='Max number of bins for discretizing continuous features.  Must be >=2 and >= number of categories for any categorical feature.'): 32,\n",
       " Param(parent='RandomForestClassifier_11a802f76ee0', name='maxDepth', doc='Maximum depth of the tree. (>= 0) E.g., depth 0 means 1 leaf node; depth 1 means 1 internal node + 2 leaf nodes.'): 7,\n",
       " Param(parent='RandomForestClassifier_11a802f76ee0', name='maxMemoryInMB', doc='Maximum memory in MB allocated to histogram aggregation. If too small, then 1 node will be split per iteration, and its aggregates may exceed this size.'): 256,\n",
       " Param(parent='RandomForestClassifier_11a802f76ee0', name='minInfoGain', doc='Minimum information gain for a split to be considered at a tree node.'): 0.0,\n",
       " Param(parent='RandomForestClassifier_11a802f76ee0', name='minInstancesPerNode', doc='Minimum number of instances each child must have after split. If a split causes the left or right child to have fewer than minInstancesPerNode, the split will be discarded as invalid. Should be >= 1.'): 4,\n",
       " Param(parent='RandomForestClassifier_11a802f76ee0', name='minWeightFractionPerNode', doc='Minimum fraction of the weighted sample count that each child must have after split. If a split causes the fraction of the total weight in the left or right child to be less than minWeightFractionPerNode, the split will be discarded as invalid. Should be in interval [0.0, 0.5).'): 0.0,\n",
       " Param(parent='RandomForestClassifier_11a802f76ee0', name='numTrees', doc='Number of trees to train (>= 1).'): 4,\n",
       " Param(parent='RandomForestClassifier_11a802f76ee0', name='subsamplingRate', doc='Fraction of the training data used for learning each decision tree, in range (0, 1].'): 1.0}"
      ]
     },
     "execution_count": 82,
     "metadata": {},
     "output_type": "execute_result"
    }
   ],
   "source": [
    "cvModel_rf.bestModel.stages[-1].extractParamMap()"
   ]
  },
  {
   "cell_type": "markdown",
   "metadata": {},
   "source": [
    "网格化调参结果中，最佳模型的参数为：\n",
    "- maxDepth: 7\n",
    "- minInstancesPerNode: 4\n",
    "- numTrees: 4"
   ]
  },
  {
   "cell_type": "markdown",
   "metadata": {},
   "source": [
    "## 5.7 评估结果\n",
    "将测试集代入模型，并模型预测结果与实际结果作比对，选择F1score作为主要评估指标，以混淆矩阵作为具体结果的分析评估工具。\n",
    "\n",
    "### 5.7.1 F1 Score"
   ]
  },
  {
   "cell_type": "code",
   "execution_count": 86,
   "metadata": {},
   "outputs": [
    {
     "name": "stdout",
     "output_type": "stream",
     "text": [
      "Optimized RF model: F1 score on test data is 0.18\n"
     ]
    }
   ],
   "source": [
    "# F1score评估\n",
    "\n",
    "testPredictions = cvModel_rf.transform(test)\n",
    "test_predictionAndLabels = testPredictions.select(\"prediction\",\"label\").rdd.map(lambda row: (row[0], row[1]))\n",
    "test_metrics = MulticlassMetrics(test_predictionAndLabels)\n",
    "test_f1 = test_metrics.fMeasure(label=1.0, beta=1.0)\n",
    "print(\"Optimized RF model: F1 score on test data is {:.2f}\".format(test_f1))"
   ]
  },
  {
   "cell_type": "markdown",
   "metadata": {},
   "source": [
    "### 5.7.2 Confusion Metrics\n",
    "\n",
    "使用混淆矩阵具体地评估分析结果"
   ]
  },
  {
   "cell_type": "code",
   "execution_count": 89,
   "metadata": {},
   "outputs": [],
   "source": [
    "confMatrix = test_metrics.confusionMatrix().toArray()\n",
    "confMatrix_pd = pd.DataFrame(confMatrix,columns=[0, 1])\n",
    "confMatrix_pd = confMatrix_pd.astype('int')"
   ]
  },
  {
   "cell_type": "code",
   "execution_count": 90,
   "metadata": {
    "scrolled": true
   },
   "outputs": [
    {
     "data": {
      "text/html": [
       "<div>\n",
       "<style scoped>\n",
       "    .dataframe tbody tr th:only-of-type {\n",
       "        vertical-align: middle;\n",
       "    }\n",
       "\n",
       "    .dataframe tbody tr th {\n",
       "        vertical-align: top;\n",
       "    }\n",
       "\n",
       "    .dataframe thead th {\n",
       "        text-align: right;\n",
       "    }\n",
       "</style>\n",
       "<table border=\"1\" class=\"dataframe\">\n",
       "  <thead>\n",
       "    <tr style=\"text-align: right;\">\n",
       "      <th></th>\n",
       "      <th>0</th>\n",
       "      <th>1</th>\n",
       "    </tr>\n",
       "  </thead>\n",
       "  <tbody>\n",
       "    <tr>\n",
       "      <td>0</td>\n",
       "      <td>31</td>\n",
       "      <td>23</td>\n",
       "    </tr>\n",
       "    <tr>\n",
       "      <td>1</td>\n",
       "      <td>4</td>\n",
       "      <td>3</td>\n",
       "    </tr>\n",
       "  </tbody>\n",
       "</table>\n",
       "</div>"
      ],
      "text/plain": [
       "    0   1\n",
       "0  31  23\n",
       "1   4   3"
      ]
     },
     "execution_count": 90,
     "metadata": {},
     "output_type": "execute_result"
    }
   ],
   "source": [
    "confMatrix_pd"
   ]
  },
  {
   "cell_type": "code",
   "execution_count": 100,
   "metadata": {},
   "outputs": [
    {
     "name": "stdout",
     "output_type": "stream",
     "text": [
      "Optimized model to predict whether the user is churned, more evaluation data as follows:\n",
      "Precision rate is 0.12\n",
      "Recall rate is 0.43\n",
      "Accuracy is 0.56\n"
     ]
    }
   ],
   "source": [
    "print(\"Optimized model to predict whether the user is churned, more evaluation data as follows:\")\n",
    "print(\"Precision rate is {:.2f}\\nRecall rate is {:.2f}\\nAccuracy is {:.2f}\".format(test_metrics.precision(label=1.0),\n",
    "                                                                                   test_metrics.recall(label=1.0),\n",
    "                                                                                   test_metrics.accuracy))"
   ]
  },
  {
   "cell_type": "markdown",
   "metadata": {},
   "source": [
    "模型在测试集的预测效果不佳，***F1score***仅为***18%***，通过混淆矩阵的结果可知，测试集在预测流失用户的***精准度***较差，辨别流失用户为流失的***精准率***仅为***12%***，预测效果不佳，为能实现项目需要解决的问题。"
   ]
  },
  {
   "cell_type": "markdown",
   "metadata": {},
   "source": [
    "# 6. 总结"
   ]
  },
  {
   "cell_type": "markdown",
   "metadata": {},
   "source": [
    "## 6.1 分析流程\n",
    "\n",
    "- 在本次项目中，使用***Spark&Python***对数据进行了评估、清理和可视化探索性分析；\n",
    "- 通过探索性分析的过程，发现本项目是一个二分类的问题，即用户是留存用户还是流失用户两种分类结果，根据探索性分析的结果，提取对预测用户是否流失的关键特征，进行特征工程；\n",
    "- 构建***Pipeline***，选择分类器，由于本项目是一个二分类的问题，所以选择四种适用算法，数据训练结果表明***Random Forrest***的效果较好；\n",
    "- 选择***Random Forrest***网格化调参和交叉验证，得到最佳模型，运用到测试集中；\n",
    "- 最后，选择***F1score***和***混淆矩阵***对最佳模型在测试集的预测结果进行评估。"
   ]
  },
  {
   "cell_type": "markdown",
   "metadata": {},
   "source": [
    "## 6.2 问题和挑战\n",
    "\n",
    "### 6.2.1 问题\n",
    "\n",
    "- 构建的模型在测试集的预测效果较差，f1得分仅为18%，辨别流失用户为流失的精准率仅为12%，而本次项目的分析目标是建立能够精准预测用户流失的模型，所以本次分析没有达到本次数据分析的目标。\n",
    "- 项目失败的原因，可能是由于数据量特别是流失用户的数据量相对较小，本数据集中流失用户仅占总用户数的22%，从而导致留存用户和流失用户在数据量上的失衡，而不得不在留存用户的数据上重新取样，从而达到流失用户和留存用户在数据量上的平衡，所以事实上本次数据集有56%的数据没有用到，这对于模型的构建会产生极大的影响。\n",
    "- 模型经过训练之后，在验证集中预测的效果较好，但是在测试集中验证预测效果较差，也说明了由于本数据集的数据量（独立用户数）较少，样本与样本之间差异较大。\n",
    "\n",
    "### 6.2.2 挑战\n",
    "\n",
    "本次项目的难点在于特征工程部分，需要通过分类探索部分特征在两类用户上的数据分布，提取关键特征，进行特征工程，最后合并成新的用于建模的数据。因为音乐播放是100%的用户都会参与的行为，也是该平台的主要功能，所以预测用户是否流失主要可以从三个方面出发：  \n",
    "\n",
    "$RFM$  \n",
    "**R（Recently）**：近期音乐播放量，如探索近1个月，近3个月，近6个月的平均月播放量的趋势；  \n",
    "**F（Frequency）**: 登陆次数；  \n",
    "**M（Monetaty）**：Session的平均音乐播放量  \n",
    "\n",
    "但是因为本项目只涉及到两个月的用户数据，无法在此项目上计算相关的近期数据，后期部署到完整数据集上还需要重新编写相关的脚本。"
   ]
  },
  {
   "cell_type": "markdown",
   "metadata": {},
   "source": [
    "## 6.3 改进\n",
    "\n",
    "将本模型延展到更大的数据集上，如果数据集的时间跨度较大的话，能够提取可能在预测流失与否更多更直接的特征，如：\n",
    "\n",
    "- 最后一次session（浏览/登陆）的日期距离统计截止日期的时间间隔，如天数间隔；\n",
    "- 近6个月的月平均音乐播放量与近3个月的月平均音乐播放量的差异，以及近3个月的音乐播放量与近一个月的音乐播放量的差异，查看这三个数之间的趋势；\n",
    "- 每一次session之间的平均时间间隔；"
   ]
  }
 ],
 "metadata": {
  "kernelspec": {
   "display_name": "Python 3",
   "language": "python",
   "name": "python3"
  },
  "language_info": {
   "codemirror_mode": {
    "name": "ipython",
    "version": 3
   },
   "file_extension": ".py",
   "mimetype": "text/x-python",
   "name": "python",
   "nbconvert_exporter": "python",
   "pygments_lexer": "ipython3",
   "version": "3.7.4"
  }
 },
 "nbformat": 4,
 "nbformat_minor": 2
}
